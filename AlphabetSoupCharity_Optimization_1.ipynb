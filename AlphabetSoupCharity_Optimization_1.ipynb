{
  "nbformat": 4,
  "nbformat_minor": 0,
  "metadata": {
    "colab": {
      "provenance": [],
      "authorship_tag": "ABX9TyNePNc1fzK7MmPVDRfqsP+u",
      "include_colab_link": true
    },
    "kernelspec": {
      "name": "python3",
      "display_name": "Python 3"
    },
    "language_info": {
      "name": "python"
    }
  },
  "cells": [
    {
      "cell_type": "markdown",
      "metadata": {
        "id": "view-in-github",
        "colab_type": "text"
      },
      "source": [
        "<a href=\"https://colab.research.google.com/github/laurajordan845/deep-learning-challenge/blob/main/AlphabetSoupCharity_Optimization_1.ipynb\" target=\"_parent\"><img src=\"https://colab.research.google.com/assets/colab-badge.svg\" alt=\"Open In Colab\"/></a>"
      ]
    },
    {
      "cell_type": "markdown",
      "source": [
        "# **Alphabet Soup Charity Optimization for Laura Jordan**"
      ],
      "metadata": {
        "id": "rOpyFMQnDUQp"
      }
    },
    {
      "cell_type": "markdown",
      "source": [
        "**Preprocessing**"
      ],
      "metadata": {
        "id": "VsgGZjASDf60"
      }
    },
    {
      "cell_type": "code",
      "source": [
        "import os\n",
        "# Import our dependencies\n",
        "from sklearn.model_selection import train_test_split\n",
        "from sklearn.preprocessing import StandardScaler\n",
        "import pandas as pd\n",
        "import tensorflow as tf\n",
        "\n",
        "application_df = pd.read_csv(\"https://static.bc-edx.com/data/dl-1-2/m21/lms/starter/charity_data.csv\")\n",
        "application_df.head()"
      ],
      "metadata": {
        "id": "a-qmvlsVD2yB",
        "colab": {
          "base_uri": "https://localhost:8080/",
          "height": 424
        },
        "outputId": "b8bde3d5-2c83-45c6-b44d-e6eceeaf9fcc"
      },
      "execution_count": 1,
      "outputs": [
        {
          "output_type": "execute_result",
          "data": {
            "text/plain": [
              "        EIN                                      NAME APPLICATION_TYPE  \\\n",
              "0  10520599              BLUE KNIGHTS MOTORCYCLE CLUB              T10   \n",
              "1  10531628    AMERICAN CHESAPEAKE CLUB CHARITABLE TR               T3   \n",
              "2  10547893        ST CLOUD PROFESSIONAL FIREFIGHTERS               T5   \n",
              "3  10553066            SOUTHSIDE ATHLETIC ASSOCIATION               T3   \n",
              "4  10556103  GENETIC RESEARCH INSTITUTE OF THE DESERT               T3   \n",
              "\n",
              "        AFFILIATION CLASSIFICATION      USE_CASE  ORGANIZATION  STATUS  \\\n",
              "0       Independent          C1000    ProductDev   Association       1   \n",
              "1       Independent          C2000  Preservation  Co-operative       1   \n",
              "2  CompanySponsored          C3000    ProductDev   Association       1   \n",
              "3  CompanySponsored          C2000  Preservation         Trust       1   \n",
              "4       Independent          C1000     Heathcare         Trust       1   \n",
              "\n",
              "      INCOME_AMT SPECIAL_CONSIDERATIONS  ASK_AMT  IS_SUCCESSFUL  \n",
              "0              0                      N     5000              1  \n",
              "1         1-9999                      N   108590              1  \n",
              "2              0                      N     5000              0  \n",
              "3    10000-24999                      N     6692              1  \n",
              "4  100000-499999                      N   142590              1  "
            ],
            "text/html": [
              "\n",
              "  <div id=\"df-aa26d3d6-07aa-4cc6-9cfc-c8651a665ceb\">\n",
              "    <div class=\"colab-df-container\">\n",
              "      <div>\n",
              "<style scoped>\n",
              "    .dataframe tbody tr th:only-of-type {\n",
              "        vertical-align: middle;\n",
              "    }\n",
              "\n",
              "    .dataframe tbody tr th {\n",
              "        vertical-align: top;\n",
              "    }\n",
              "\n",
              "    .dataframe thead th {\n",
              "        text-align: right;\n",
              "    }\n",
              "</style>\n",
              "<table border=\"1\" class=\"dataframe\">\n",
              "  <thead>\n",
              "    <tr style=\"text-align: right;\">\n",
              "      <th></th>\n",
              "      <th>EIN</th>\n",
              "      <th>NAME</th>\n",
              "      <th>APPLICATION_TYPE</th>\n",
              "      <th>AFFILIATION</th>\n",
              "      <th>CLASSIFICATION</th>\n",
              "      <th>USE_CASE</th>\n",
              "      <th>ORGANIZATION</th>\n",
              "      <th>STATUS</th>\n",
              "      <th>INCOME_AMT</th>\n",
              "      <th>SPECIAL_CONSIDERATIONS</th>\n",
              "      <th>ASK_AMT</th>\n",
              "      <th>IS_SUCCESSFUL</th>\n",
              "    </tr>\n",
              "  </thead>\n",
              "  <tbody>\n",
              "    <tr>\n",
              "      <th>0</th>\n",
              "      <td>10520599</td>\n",
              "      <td>BLUE KNIGHTS MOTORCYCLE CLUB</td>\n",
              "      <td>T10</td>\n",
              "      <td>Independent</td>\n",
              "      <td>C1000</td>\n",
              "      <td>ProductDev</td>\n",
              "      <td>Association</td>\n",
              "      <td>1</td>\n",
              "      <td>0</td>\n",
              "      <td>N</td>\n",
              "      <td>5000</td>\n",
              "      <td>1</td>\n",
              "    </tr>\n",
              "    <tr>\n",
              "      <th>1</th>\n",
              "      <td>10531628</td>\n",
              "      <td>AMERICAN CHESAPEAKE CLUB CHARITABLE TR</td>\n",
              "      <td>T3</td>\n",
              "      <td>Independent</td>\n",
              "      <td>C2000</td>\n",
              "      <td>Preservation</td>\n",
              "      <td>Co-operative</td>\n",
              "      <td>1</td>\n",
              "      <td>1-9999</td>\n",
              "      <td>N</td>\n",
              "      <td>108590</td>\n",
              "      <td>1</td>\n",
              "    </tr>\n",
              "    <tr>\n",
              "      <th>2</th>\n",
              "      <td>10547893</td>\n",
              "      <td>ST CLOUD PROFESSIONAL FIREFIGHTERS</td>\n",
              "      <td>T5</td>\n",
              "      <td>CompanySponsored</td>\n",
              "      <td>C3000</td>\n",
              "      <td>ProductDev</td>\n",
              "      <td>Association</td>\n",
              "      <td>1</td>\n",
              "      <td>0</td>\n",
              "      <td>N</td>\n",
              "      <td>5000</td>\n",
              "      <td>0</td>\n",
              "    </tr>\n",
              "    <tr>\n",
              "      <th>3</th>\n",
              "      <td>10553066</td>\n",
              "      <td>SOUTHSIDE ATHLETIC ASSOCIATION</td>\n",
              "      <td>T3</td>\n",
              "      <td>CompanySponsored</td>\n",
              "      <td>C2000</td>\n",
              "      <td>Preservation</td>\n",
              "      <td>Trust</td>\n",
              "      <td>1</td>\n",
              "      <td>10000-24999</td>\n",
              "      <td>N</td>\n",
              "      <td>6692</td>\n",
              "      <td>1</td>\n",
              "    </tr>\n",
              "    <tr>\n",
              "      <th>4</th>\n",
              "      <td>10556103</td>\n",
              "      <td>GENETIC RESEARCH INSTITUTE OF THE DESERT</td>\n",
              "      <td>T3</td>\n",
              "      <td>Independent</td>\n",
              "      <td>C1000</td>\n",
              "      <td>Heathcare</td>\n",
              "      <td>Trust</td>\n",
              "      <td>1</td>\n",
              "      <td>100000-499999</td>\n",
              "      <td>N</td>\n",
              "      <td>142590</td>\n",
              "      <td>1</td>\n",
              "    </tr>\n",
              "  </tbody>\n",
              "</table>\n",
              "</div>\n",
              "      <button class=\"colab-df-convert\" onclick=\"convertToInteractive('df-aa26d3d6-07aa-4cc6-9cfc-c8651a665ceb')\"\n",
              "              title=\"Convert this dataframe to an interactive table.\"\n",
              "              style=\"display:none;\">\n",
              "        \n",
              "  <svg xmlns=\"http://www.w3.org/2000/svg\" height=\"24px\"viewBox=\"0 0 24 24\"\n",
              "       width=\"24px\">\n",
              "    <path d=\"M0 0h24v24H0V0z\" fill=\"none\"/>\n",
              "    <path d=\"M18.56 5.44l.94 2.06.94-2.06 2.06-.94-2.06-.94-.94-2.06-.94 2.06-2.06.94zm-11 1L8.5 8.5l.94-2.06 2.06-.94-2.06-.94L8.5 2.5l-.94 2.06-2.06.94zm10 10l.94 2.06.94-2.06 2.06-.94-2.06-.94-.94-2.06-.94 2.06-2.06.94z\"/><path d=\"M17.41 7.96l-1.37-1.37c-.4-.4-.92-.59-1.43-.59-.52 0-1.04.2-1.43.59L10.3 9.45l-7.72 7.72c-.78.78-.78 2.05 0 2.83L4 21.41c.39.39.9.59 1.41.59.51 0 1.02-.2 1.41-.59l7.78-7.78 2.81-2.81c.8-.78.8-2.07 0-2.86zM5.41 20L4 18.59l7.72-7.72 1.47 1.35L5.41 20z\"/>\n",
              "  </svg>\n",
              "      </button>\n",
              "      \n",
              "  <style>\n",
              "    .colab-df-container {\n",
              "      display:flex;\n",
              "      flex-wrap:wrap;\n",
              "      gap: 12px;\n",
              "    }\n",
              "\n",
              "    .colab-df-convert {\n",
              "      background-color: #E8F0FE;\n",
              "      border: none;\n",
              "      border-radius: 50%;\n",
              "      cursor: pointer;\n",
              "      display: none;\n",
              "      fill: #1967D2;\n",
              "      height: 32px;\n",
              "      padding: 0 0 0 0;\n",
              "      width: 32px;\n",
              "    }\n",
              "\n",
              "    .colab-df-convert:hover {\n",
              "      background-color: #E2EBFA;\n",
              "      box-shadow: 0px 1px 2px rgba(60, 64, 67, 0.3), 0px 1px 3px 1px rgba(60, 64, 67, 0.15);\n",
              "      fill: #174EA6;\n",
              "    }\n",
              "\n",
              "    [theme=dark] .colab-df-convert {\n",
              "      background-color: #3B4455;\n",
              "      fill: #D2E3FC;\n",
              "    }\n",
              "\n",
              "    [theme=dark] .colab-df-convert:hover {\n",
              "      background-color: #434B5C;\n",
              "      box-shadow: 0px 1px 3px 1px rgba(0, 0, 0, 0.15);\n",
              "      filter: drop-shadow(0px 1px 2px rgba(0, 0, 0, 0.3));\n",
              "      fill: #FFFFFF;\n",
              "    }\n",
              "  </style>\n",
              "\n",
              "      <script>\n",
              "        const buttonEl =\n",
              "          document.querySelector('#df-aa26d3d6-07aa-4cc6-9cfc-c8651a665ceb button.colab-df-convert');\n",
              "        buttonEl.style.display =\n",
              "          google.colab.kernel.accessAllowed ? 'block' : 'none';\n",
              "\n",
              "        async function convertToInteractive(key) {\n",
              "          const element = document.querySelector('#df-aa26d3d6-07aa-4cc6-9cfc-c8651a665ceb');\n",
              "          const dataTable =\n",
              "            await google.colab.kernel.invokeFunction('convertToInteractive',\n",
              "                                                     [key], {});\n",
              "          if (!dataTable) return;\n",
              "\n",
              "          const docLinkHtml = 'Like what you see? Visit the ' +\n",
              "            '<a target=\"_blank\" href=https://colab.research.google.com/notebooks/data_table.ipynb>data table notebook</a>'\n",
              "            + ' to learn more about interactive tables.';\n",
              "          element.innerHTML = '';\n",
              "          dataTable['output_type'] = 'display_data';\n",
              "          await google.colab.output.renderOutput(dataTable, element);\n",
              "          const docLink = document.createElement('div');\n",
              "          docLink.innerHTML = docLinkHtml;\n",
              "          element.appendChild(docLink);\n",
              "        }\n",
              "      </script>\n",
              "    </div>\n",
              "  </div>\n",
              "  "
            ]
          },
          "metadata": {},
          "execution_count": 1
        }
      ]
    },
    {
      "cell_type": "code",
      "source": [
        "# Determine the number of unique values in each column.\n",
        "application_df.nunique()"
      ],
      "metadata": {
        "colab": {
          "base_uri": "https://localhost:8080/"
        },
        "id": "9EpeUJYyHAmN",
        "outputId": "ee3ae30b-60ed-4e45-a4fb-725db8210ac5"
      },
      "execution_count": 2,
      "outputs": [
        {
          "output_type": "execute_result",
          "data": {
            "text/plain": [
              "EIN                       34299\n",
              "NAME                      19568\n",
              "APPLICATION_TYPE             17\n",
              "AFFILIATION                   6\n",
              "CLASSIFICATION               71\n",
              "USE_CASE                      5\n",
              "ORGANIZATION                  4\n",
              "STATUS                        2\n",
              "INCOME_AMT                    9\n",
              "SPECIAL_CONSIDERATIONS        2\n",
              "ASK_AMT                    8747\n",
              "IS_SUCCESSFUL                 2\n",
              "dtype: int64"
            ]
          },
          "metadata": {},
          "execution_count": 2
        }
      ]
    },
    {
      "cell_type": "code",
      "source": [
        "# Look at APPLICATION_TYPE value counts for binning\n",
        "app_type_counts = application_df['APPLICATION_TYPE'].value_counts()\n",
        "app_type_counts"
      ],
      "metadata": {
        "colab": {
          "base_uri": "https://localhost:8080/"
        },
        "id": "vnVL26pXHM4B",
        "outputId": "0078be93-1796-4f38-8e07-51d3f4243340"
      },
      "execution_count": 3,
      "outputs": [
        {
          "output_type": "execute_result",
          "data": {
            "text/plain": [
              "T3     27037\n",
              "T4      1542\n",
              "T6      1216\n",
              "T5      1173\n",
              "T19     1065\n",
              "T8       737\n",
              "T7       725\n",
              "T10      528\n",
              "T9       156\n",
              "T13       66\n",
              "T12       27\n",
              "T2        16\n",
              "T25        3\n",
              "T14        3\n",
              "T29        2\n",
              "T15        2\n",
              "T17        1\n",
              "Name: APPLICATION_TYPE, dtype: int64"
            ]
          },
          "metadata": {},
          "execution_count": 3
        }
      ]
    },
    {
      "cell_type": "code",
      "source": [
        "# Choose a cutoff value and create a list of application types to be replaced\n",
        "# use the variable name `application_types_to_replace`\n",
        "application_types_to_replace = list(app_type_counts[app_type_counts < 500].index)\n",
        "\n",
        "\n",
        "# Replace in dataframe\n",
        "for app in application_types_to_replace:\n",
        "    application_df['APPLICATION_TYPE'] = application_df['APPLICATION_TYPE'].replace(app,\"Other\")\n",
        "\n",
        "# Check to make sure binning was successful\n",
        "application_df['APPLICATION_TYPE'].value_counts()\n",
        "\n",
        "# 500 was chosen because of the displayed counts provided by the starter code notebook"
      ],
      "metadata": {
        "colab": {
          "base_uri": "https://localhost:8080/"
        },
        "id": "0eearEqIHM9V",
        "outputId": "d4cb5231-4176-4210-8579-38bc47b325a8"
      },
      "execution_count": 4,
      "outputs": [
        {
          "output_type": "execute_result",
          "data": {
            "text/plain": [
              "T3       27037\n",
              "T4        1542\n",
              "T6        1216\n",
              "T5        1173\n",
              "T19       1065\n",
              "T8         737\n",
              "T7         725\n",
              "T10        528\n",
              "Other      276\n",
              "Name: APPLICATION_TYPE, dtype: int64"
            ]
          },
          "metadata": {},
          "execution_count": 4
        }
      ]
    },
    {
      "cell_type": "code",
      "source": [
        "# Look at CLASSIFICATION value counts for binning\n",
        "classifications = application_df['CLASSIFICATION'].value_counts()\n",
        "classifications"
      ],
      "metadata": {
        "colab": {
          "base_uri": "https://localhost:8080/"
        },
        "id": "VbHQHDyeHNAI",
        "outputId": "81397bdd-1478-42b9-9e24-7a19497e424b"
      },
      "execution_count": 5,
      "outputs": [
        {
          "output_type": "execute_result",
          "data": {
            "text/plain": [
              "C1000    17326\n",
              "C2000     6074\n",
              "C1200     4837\n",
              "C3000     1918\n",
              "C2100     1883\n",
              "         ...  \n",
              "C4120        1\n",
              "C8210        1\n",
              "C2561        1\n",
              "C4500        1\n",
              "C2150        1\n",
              "Name: CLASSIFICATION, Length: 71, dtype: int64"
            ]
          },
          "metadata": {},
          "execution_count": 5
        }
      ]
    },
    {
      "cell_type": "code",
      "source": [
        "# You may find it helpful to look at CLASSIFICATION value counts >1\n",
        "classifications[classifications > 1]"
      ],
      "metadata": {
        "colab": {
          "base_uri": "https://localhost:8080/"
        },
        "id": "Mouc8YbpHNDQ",
        "outputId": "a524bd79-ac4a-4f95-c836-602b79f47fd3"
      },
      "execution_count": 6,
      "outputs": [
        {
          "output_type": "execute_result",
          "data": {
            "text/plain": [
              "C1000    17326\n",
              "C2000     6074\n",
              "C1200     4837\n",
              "C3000     1918\n",
              "C2100     1883\n",
              "C7000      777\n",
              "C1700      287\n",
              "C4000      194\n",
              "C5000      116\n",
              "C1270      114\n",
              "C2700      104\n",
              "C2800       95\n",
              "C7100       75\n",
              "C1300       58\n",
              "C1280       50\n",
              "C1230       36\n",
              "C1400       34\n",
              "C7200       32\n",
              "C2300       32\n",
              "C1240       30\n",
              "C8000       20\n",
              "C7120       18\n",
              "C1500       16\n",
              "C1800       15\n",
              "C6000       15\n",
              "C1250       14\n",
              "C8200       11\n",
              "C1238       10\n",
              "C1278       10\n",
              "C1235        9\n",
              "C1237        9\n",
              "C7210        7\n",
              "C2400        6\n",
              "C1720        6\n",
              "C4100        6\n",
              "C1257        5\n",
              "C1600        5\n",
              "C1260        3\n",
              "C2710        3\n",
              "C0           3\n",
              "C3200        2\n",
              "C1234        2\n",
              "C1246        2\n",
              "C1267        2\n",
              "C1256        2\n",
              "Name: CLASSIFICATION, dtype: int64"
            ]
          },
          "metadata": {},
          "execution_count": 6
        }
      ]
    },
    {
      "cell_type": "code",
      "source": [
        "# Choose a cutoff value and create a list of classifications to be replaced\n",
        "# use the variable name `classifications_to_replace`\n",
        "classifications_to_replace = list(classifications[classifications < 1000].index)\n",
        "\n",
        "# Replace in dataframe\n",
        "for cls in classifications_to_replace:\n",
        "    application_df['CLASSIFICATION'] = application_df['CLASSIFICATION'].replace(cls,\"Other\")\n",
        "    \n",
        "# Check to make sure binning was successful\n",
        "application_df['CLASSIFICATION'].value_counts()\n",
        "\n",
        "# 1,000 was chosen because of the displayed counts provided by the starter code notebook"
      ],
      "metadata": {
        "colab": {
          "base_uri": "https://localhost:8080/"
        },
        "id": "sP49ZikVHNFh",
        "outputId": "4ba18326-14b7-4ece-c06f-d314198d4d57"
      },
      "execution_count": 7,
      "outputs": [
        {
          "output_type": "execute_result",
          "data": {
            "text/plain": [
              "C1000    17326\n",
              "C2000     6074\n",
              "C1200     4837\n",
              "Other     2261\n",
              "C3000     1918\n",
              "C2100     1883\n",
              "Name: CLASSIFICATION, dtype: int64"
            ]
          },
          "metadata": {},
          "execution_count": 7
        }
      ]
    },
    {
      "cell_type": "code",
      "source": [
        "# Convert categorical data to numeric with `pd.get_dummies`\n",
        "app_numeric = pd.get_dummies(application_df)"
      ],
      "metadata": {
        "id": "dhqL-u8fHNII"
      },
      "execution_count": 8,
      "outputs": []
    },
    {
      "cell_type": "code",
      "source": [
        "# Split our preprocessed data into our features and target arrays\n",
        "X = app_numeric.drop(['IS_SUCCESSFUL'], axis=1)\n",
        "y = app_numeric['IS_SUCCESSFUL']\n",
        "\n",
        "# Split the preprocessed data into a training and testing dataset\n",
        "X_train, X_test, y_train, y_test = train_test_split(X, y, random_state = 10)"
      ],
      "metadata": {
        "id": "e8lULd2THNKl"
      },
      "execution_count": 9,
      "outputs": []
    },
    {
      "cell_type": "code",
      "source": [
        "# Create a StandardScaler instances\n",
        "scaler = StandardScaler()\n",
        "\n",
        "# Fit the StandardScaler\n",
        "X_scaler = scaler.fit(X_train)\n",
        "\n",
        "# Scale the data\n",
        "X_train_scaled = X_scaler.transform(X_train)\n",
        "X_test_scaled = X_scaler.transform(X_test)"
      ],
      "metadata": {
        "id": "QLLFOo_0HNNL"
      },
      "execution_count": 10,
      "outputs": []
    },
    {
      "cell_type": "markdown",
      "source": [
        "**Compile, Train and Evaluate the Model**"
      ],
      "metadata": {
        "id": "rdaH3gufHdcO"
      }
    },
    {
      "cell_type": "code",
      "source": [
        "# Define the model - deep neural net, i.e., the number of input features and hidden nodes for each layer.\n",
        "number_input_features =len(X_train_scaled[0])\n",
        "hidden_nodes_layer1 = 80\n",
        "hidden_nodes_layer2 = 30\n",
        "\n",
        "nn = tf.keras.models.Sequential()\n",
        "\n",
        "# First hidden layer\n",
        "nn.add(tf.keras.layers.Dense(units=hidden_nodes_layer1, input_dim=number_input_features, activation=\"relu\"))\n",
        "\n",
        "# Second hidden layer\n",
        "nn.add(tf.keras.layers.Dense(units=hidden_nodes_layer2, activation=\"relu\"))\n",
        "\n",
        "# Output layer\n",
        "nn.add(tf.keras.layers.Dense(units=1, activation=\"sigmoid\"))\n",
        "\n",
        "# Check the structure of the model\n",
        "nn.summary()"
      ],
      "metadata": {
        "colab": {
          "base_uri": "https://localhost:8080/"
        },
        "id": "zVE9uPt7HiSM",
        "outputId": "e11dbb8e-21dd-4d2c-8aaf-09a2e20f1479"
      },
      "execution_count": 11,
      "outputs": [
        {
          "output_type": "stream",
          "name": "stdout",
          "text": [
            "Model: \"sequential\"\n",
            "_________________________________________________________________\n",
            " Layer (type)                Output Shape              Param #   \n",
            "=================================================================\n",
            " dense (Dense)               (None, 80)                1569040   \n",
            "                                                                 \n",
            " dense_1 (Dense)             (None, 30)                2430      \n",
            "                                                                 \n",
            " dense_2 (Dense)             (None, 1)                 31        \n",
            "                                                                 \n",
            "=================================================================\n",
            "Total params: 1,571,501\n",
            "Trainable params: 1,571,501\n",
            "Non-trainable params: 0\n",
            "_________________________________________________________________\n"
          ]
        }
      ]
    },
    {
      "cell_type": "code",
      "source": [
        "# Import checkpoint dependencies\n",
        "from tensorflow.keras.callbacks import ModelCheckpoint\n",
        "\n",
        "# Define the checkpoint path and file names\n",
        "os.makedirs(\"checkpoints-Optimization1/\", exist_ok=True)\n",
        "path = \"checkpoints-Optimization1/weights.{epoch:02d}.hdf5\" "
      ],
      "metadata": {
        "id": "r9c11uGLxnTk"
      },
      "execution_count": 12,
      "outputs": []
    },
    {
      "cell_type": "code",
      "source": [
        "# Compile the model\n",
        "nn.compile(loss=\"binary_crossentropy\", optimizer=\"adam\", metrics=[\"accuracy\"])"
      ],
      "metadata": {
        "id": "gtnu_N2nHi8r"
      },
      "execution_count": 13,
      "outputs": []
    },
    {
      "cell_type": "code",
      "source": [
        "# Create a callback that saves the model's weights every five epochs\n",
        "checkpoint_callback = ModelCheckpoint(filepath=path, verbose=1, save_weights_only=True, save_freq='epoch', period=5)\n",
        "\n",
        "# Train the model\n",
        "fit_model = nn.fit(X_train_scaled, y_train, epochs=100, callbacks=[checkpoint_callback])\n",
        "\n",
        "# epochs = 100 based on starter code display"
      ],
      "metadata": {
        "id": "As_0xZ2-Hi5y",
        "colab": {
          "base_uri": "https://localhost:8080/"
        },
        "outputId": "50746c9e-fdff-4c91-eadb-869d95479db5"
      },
      "execution_count": 14,
      "outputs": [
        {
          "output_type": "stream",
          "name": "stderr",
          "text": [
            "WARNING:tensorflow:`period` argument is deprecated. Please use `save_freq` to specify the frequency in number of batches seen.\n"
          ]
        },
        {
          "output_type": "stream",
          "name": "stdout",
          "text": [
            "Epoch 1/100\n",
            "804/804 [==============================] - 11s 13ms/step - loss: 0.4922 - accuracy: 0.7644\n",
            "Epoch 2/100\n",
            "804/804 [==============================] - 11s 13ms/step - loss: 0.1353 - accuracy: 0.9505\n",
            "Epoch 3/100\n",
            "804/804 [==============================] - 10s 13ms/step - loss: 0.0994 - accuracy: 0.9602\n",
            "Epoch 4/100\n",
            "804/804 [==============================] - 10s 13ms/step - loss: 0.0955 - accuracy: 0.9612\n",
            "Epoch 5/100\n",
            "804/804 [==============================] - ETA: 0s - loss: 0.0940 - accuracy: 0.9621\n",
            "Epoch 5: saving model to checkpoints-Optimization1/weights.05.hdf5\n",
            "804/804 [==============================] - 13s 16ms/step - loss: 0.0940 - accuracy: 0.9621\n",
            "Epoch 6/100\n",
            "804/804 [==============================] - 12s 15ms/step - loss: 0.0929 - accuracy: 0.9624\n",
            "Epoch 7/100\n",
            "804/804 [==============================] - 12s 14ms/step - loss: 0.0919 - accuracy: 0.9620\n",
            "Epoch 8/100\n",
            "804/804 [==============================] - 11s 14ms/step - loss: 0.0907 - accuracy: 0.9631\n",
            "Epoch 9/100\n",
            "804/804 [==============================] - 11s 14ms/step - loss: 0.0901 - accuracy: 0.9629\n",
            "Epoch 10/100\n",
            "802/804 [============================>.] - ETA: 0s - loss: 0.0901 - accuracy: 0.9626\n",
            "Epoch 10: saving model to checkpoints-Optimization1/weights.10.hdf5\n",
            "804/804 [==============================] - 12s 14ms/step - loss: 0.0902 - accuracy: 0.9626\n",
            "Epoch 11/100\n",
            "804/804 [==============================] - 11s 13ms/step - loss: 0.0890 - accuracy: 0.9635\n",
            "Epoch 12/100\n",
            "804/804 [==============================] - 10s 13ms/step - loss: 0.0889 - accuracy: 0.9632\n",
            "Epoch 13/100\n",
            "804/804 [==============================] - 11s 14ms/step - loss: 0.0886 - accuracy: 0.9637\n",
            "Epoch 14/100\n",
            "804/804 [==============================] - 10s 13ms/step - loss: 0.0881 - accuracy: 0.9634\n",
            "Epoch 15/100\n",
            "801/804 [============================>.] - ETA: 0s - loss: 0.0875 - accuracy: 0.9645\n",
            "Epoch 15: saving model to checkpoints-Optimization1/weights.15.hdf5\n",
            "804/804 [==============================] - 10s 12ms/step - loss: 0.0875 - accuracy: 0.9645\n",
            "Epoch 16/100\n",
            "804/804 [==============================] - 11s 14ms/step - loss: 0.0872 - accuracy: 0.9640\n",
            "Epoch 17/100\n",
            "804/804 [==============================] - 10s 13ms/step - loss: 0.0869 - accuracy: 0.9643\n",
            "Epoch 18/100\n",
            "804/804 [==============================] - 11s 14ms/step - loss: 0.0860 - accuracy: 0.9646\n",
            "Epoch 19/100\n",
            "804/804 [==============================] - 11s 13ms/step - loss: 0.0856 - accuracy: 0.9650\n",
            "Epoch 20/100\n",
            "802/804 [============================>.] - ETA: 0s - loss: 0.0855 - accuracy: 0.9650\n",
            "Epoch 20: saving model to checkpoints-Optimization1/weights.20.hdf5\n",
            "804/804 [==============================] - 11s 13ms/step - loss: 0.0856 - accuracy: 0.9649\n",
            "Epoch 21/100\n",
            "804/804 [==============================] - 10s 12ms/step - loss: 0.0847 - accuracy: 0.9659\n",
            "Epoch 22/100\n",
            "804/804 [==============================] - 10s 13ms/step - loss: 0.0848 - accuracy: 0.9654\n",
            "Epoch 23/100\n",
            "804/804 [==============================] - 10s 13ms/step - loss: 0.0839 - accuracy: 0.9656\n",
            "Epoch 24/100\n",
            "804/804 [==============================] - 10s 13ms/step - loss: 0.0839 - accuracy: 0.9660\n",
            "Epoch 25/100\n",
            "801/804 [============================>.] - ETA: 0s - loss: 0.0837 - accuracy: 0.9661\n",
            "Epoch 25: saving model to checkpoints-Optimization1/weights.25.hdf5\n",
            "804/804 [==============================] - 10s 12ms/step - loss: 0.0837 - accuracy: 0.9661\n",
            "Epoch 26/100\n",
            "804/804 [==============================] - 10s 12ms/step - loss: 0.0829 - accuracy: 0.9661\n",
            "Epoch 27/100\n",
            "804/804 [==============================] - 11s 14ms/step - loss: 0.0822 - accuracy: 0.9670\n",
            "Epoch 28/100\n",
            "804/804 [==============================] - 12s 15ms/step - loss: 0.0820 - accuracy: 0.9666\n",
            "Epoch 29/100\n",
            "804/804 [==============================] - 10s 13ms/step - loss: 0.0818 - accuracy: 0.9673\n",
            "Epoch 30/100\n",
            "801/804 [============================>.] - ETA: 0s - loss: 0.0814 - accuracy: 0.9666\n",
            "Epoch 30: saving model to checkpoints-Optimization1/weights.30.hdf5\n",
            "804/804 [==============================] - 10s 12ms/step - loss: 0.0813 - accuracy: 0.9666\n",
            "Epoch 31/100\n",
            "804/804 [==============================] - 10s 13ms/step - loss: 0.0806 - accuracy: 0.9668\n",
            "Epoch 32/100\n",
            "804/804 [==============================] - 10s 13ms/step - loss: 0.0805 - accuracy: 0.9672\n",
            "Epoch 33/100\n",
            "804/804 [==============================] - 10s 13ms/step - loss: 0.0800 - accuracy: 0.9668\n",
            "Epoch 34/100\n",
            "804/804 [==============================] - 10s 13ms/step - loss: 0.0794 - accuracy: 0.9675\n",
            "Epoch 35/100\n",
            "803/804 [============================>.] - ETA: 0s - loss: 0.0796 - accuracy: 0.9676\n",
            "Epoch 35: saving model to checkpoints-Optimization1/weights.35.hdf5\n",
            "804/804 [==============================] - 10s 13ms/step - loss: 0.0795 - accuracy: 0.9677\n",
            "Epoch 36/100\n",
            "804/804 [==============================] - 11s 14ms/step - loss: 0.0793 - accuracy: 0.9674\n",
            "Epoch 37/100\n",
            "804/804 [==============================] - 10s 12ms/step - loss: 0.0786 - accuracy: 0.9681\n",
            "Epoch 38/100\n",
            "804/804 [==============================] - 10s 13ms/step - loss: 0.0784 - accuracy: 0.9678\n",
            "Epoch 39/100\n",
            "804/804 [==============================] - 12s 15ms/step - loss: 0.0777 - accuracy: 0.9684\n",
            "Epoch 40/100\n",
            "804/804 [==============================] - ETA: 0s - loss: 0.0778 - accuracy: 0.9687\n",
            "Epoch 40: saving model to checkpoints-Optimization1/weights.40.hdf5\n",
            "804/804 [==============================] - 11s 13ms/step - loss: 0.0778 - accuracy: 0.9687\n",
            "Epoch 41/100\n",
            "804/804 [==============================] - 11s 13ms/step - loss: 0.0774 - accuracy: 0.9687\n",
            "Epoch 42/100\n",
            "804/804 [==============================] - 11s 14ms/step - loss: 0.0769 - accuracy: 0.9690\n",
            "Epoch 43/100\n",
            "804/804 [==============================] - 11s 14ms/step - loss: 0.0767 - accuracy: 0.9691\n",
            "Epoch 44/100\n",
            "804/804 [==============================] - 12s 15ms/step - loss: 0.0766 - accuracy: 0.9690\n",
            "Epoch 45/100\n",
            "801/804 [============================>.] - ETA: 0s - loss: 0.0764 - accuracy: 0.9689\n",
            "Epoch 45: saving model to checkpoints-Optimization1/weights.45.hdf5\n",
            "804/804 [==============================] - 11s 13ms/step - loss: 0.0763 - accuracy: 0.9691\n",
            "Epoch 46/100\n",
            "804/804 [==============================] - 10s 13ms/step - loss: 0.0762 - accuracy: 0.9690\n",
            "Epoch 47/100\n",
            "804/804 [==============================] - 11s 14ms/step - loss: 0.0758 - accuracy: 0.9694\n",
            "Epoch 48/100\n",
            "804/804 [==============================] - 10s 13ms/step - loss: 0.0749 - accuracy: 0.9695\n",
            "Epoch 49/100\n",
            "804/804 [==============================] - 10s 13ms/step - loss: 0.0752 - accuracy: 0.9690\n",
            "Epoch 50/100\n",
            "801/804 [============================>.] - ETA: 0s - loss: 0.0748 - accuracy: 0.9698\n",
            "Epoch 50: saving model to checkpoints-Optimization1/weights.50.hdf5\n",
            "804/804 [==============================] - 11s 14ms/step - loss: 0.0749 - accuracy: 0.9698\n",
            "Epoch 51/100\n",
            "804/804 [==============================] - 11s 13ms/step - loss: 0.0749 - accuracy: 0.9698\n",
            "Epoch 52/100\n",
            "804/804 [==============================] - 10s 12ms/step - loss: 0.0741 - accuracy: 0.9705\n",
            "Epoch 53/100\n",
            "804/804 [==============================] - 11s 14ms/step - loss: 0.0743 - accuracy: 0.9702\n",
            "Epoch 54/100\n",
            "804/804 [==============================] - 11s 13ms/step - loss: 0.0740 - accuracy: 0.9699\n",
            "Epoch 55/100\n",
            "801/804 [============================>.] - ETA: 0s - loss: 0.0734 - accuracy: 0.9703\n",
            "Epoch 55: saving model to checkpoints-Optimization1/weights.55.hdf5\n",
            "804/804 [==============================] - 11s 13ms/step - loss: 0.0734 - accuracy: 0.9702\n",
            "Epoch 56/100\n",
            "804/804 [==============================] - 11s 14ms/step - loss: 0.0734 - accuracy: 0.9706\n",
            "Epoch 57/100\n",
            "804/804 [==============================] - 14s 17ms/step - loss: 0.0732 - accuracy: 0.9707\n",
            "Epoch 58/100\n",
            "804/804 [==============================] - 12s 15ms/step - loss: 0.0731 - accuracy: 0.9705\n",
            "Epoch 59/100\n",
            "804/804 [==============================] - 12s 15ms/step - loss: 0.0732 - accuracy: 0.9706\n",
            "Epoch 60/100\n",
            "801/804 [============================>.] - ETA: 0s - loss: 0.0730 - accuracy: 0.9706\n",
            "Epoch 60: saving model to checkpoints-Optimization1/weights.60.hdf5\n",
            "804/804 [==============================] - 13s 16ms/step - loss: 0.0729 - accuracy: 0.9706\n",
            "Epoch 61/100\n",
            "804/804 [==============================] - 12s 15ms/step - loss: 0.0727 - accuracy: 0.9703\n",
            "Epoch 62/100\n",
            "804/804 [==============================] - 12s 15ms/step - loss: 0.0727 - accuracy: 0.9707\n",
            "Epoch 63/100\n",
            "804/804 [==============================] - 12s 15ms/step - loss: 0.0722 - accuracy: 0.9709\n",
            "Epoch 64/100\n",
            "804/804 [==============================] - 12s 15ms/step - loss: 0.0723 - accuracy: 0.9708\n",
            "Epoch 65/100\n",
            "803/804 [============================>.] - ETA: 0s - loss: 0.0720 - accuracy: 0.9706\n",
            "Epoch 65: saving model to checkpoints-Optimization1/weights.65.hdf5\n",
            "804/804 [==============================] - 13s 16ms/step - loss: 0.0719 - accuracy: 0.9706\n",
            "Epoch 66/100\n",
            "804/804 [==============================] - 12s 15ms/step - loss: 0.0721 - accuracy: 0.9708\n",
            "Epoch 67/100\n",
            "804/804 [==============================] - 13s 16ms/step - loss: 0.0714 - accuracy: 0.9713\n",
            "Epoch 68/100\n",
            "804/804 [==============================] - 12s 15ms/step - loss: 0.0718 - accuracy: 0.9710\n",
            "Epoch 69/100\n",
            "804/804 [==============================] - 12s 14ms/step - loss: 0.0714 - accuracy: 0.9708\n",
            "Epoch 70/100\n",
            "804/804 [==============================] - ETA: 0s - loss: 0.0712 - accuracy: 0.9715\n",
            "Epoch 70: saving model to checkpoints-Optimization1/weights.70.hdf5\n",
            "804/804 [==============================] - 13s 16ms/step - loss: 0.0712 - accuracy: 0.9715\n",
            "Epoch 71/100\n",
            "804/804 [==============================] - 13s 16ms/step - loss: 0.0713 - accuracy: 0.9713\n",
            "Epoch 72/100\n",
            "804/804 [==============================] - 12s 14ms/step - loss: 0.0710 - accuracy: 0.9716\n",
            "Epoch 73/100\n",
            "804/804 [==============================] - 12s 15ms/step - loss: 0.0711 - accuracy: 0.9710\n",
            "Epoch 74/100\n",
            "804/804 [==============================] - 11s 14ms/step - loss: 0.0709 - accuracy: 0.9713\n",
            "Epoch 75/100\n",
            "804/804 [==============================] - ETA: 0s - loss: 0.0707 - accuracy: 0.9714\n",
            "Epoch 75: saving model to checkpoints-Optimization1/weights.75.hdf5\n",
            "804/804 [==============================] - 12s 15ms/step - loss: 0.0707 - accuracy: 0.9714\n",
            "Epoch 76/100\n",
            "804/804 [==============================] - 12s 15ms/step - loss: 0.0708 - accuracy: 0.9717\n",
            "Epoch 77/100\n",
            "804/804 [==============================] - 12s 15ms/step - loss: 0.0704 - accuracy: 0.9714\n",
            "Epoch 78/100\n",
            "804/804 [==============================] - 11s 14ms/step - loss: 0.0706 - accuracy: 0.9715\n",
            "Epoch 79/100\n",
            "804/804 [==============================] - 11s 14ms/step - loss: 0.0698 - accuracy: 0.9716\n",
            "Epoch 80/100\n",
            "804/804 [==============================] - ETA: 0s - loss: 0.0704 - accuracy: 0.9711\n",
            "Epoch 80: saving model to checkpoints-Optimization1/weights.80.hdf5\n",
            "804/804 [==============================] - 12s 15ms/step - loss: 0.0704 - accuracy: 0.9711\n",
            "Epoch 81/100\n",
            "804/804 [==============================] - 12s 15ms/step - loss: 0.0701 - accuracy: 0.9711\n",
            "Epoch 82/100\n",
            "804/804 [==============================] - 13s 16ms/step - loss: 0.0704 - accuracy: 0.9715\n",
            "Epoch 83/100\n",
            "804/804 [==============================] - 12s 15ms/step - loss: 0.0699 - accuracy: 0.9712\n",
            "Epoch 84/100\n",
            "804/804 [==============================] - 12s 15ms/step - loss: 0.0699 - accuracy: 0.9714\n",
            "Epoch 85/100\n",
            "804/804 [==============================] - ETA: 0s - loss: 0.0696 - accuracy: 0.9719\n",
            "Epoch 85: saving model to checkpoints-Optimization1/weights.85.hdf5\n",
            "804/804 [==============================] - 13s 16ms/step - loss: 0.0696 - accuracy: 0.9719\n",
            "Epoch 86/100\n",
            "804/804 [==============================] - 12s 14ms/step - loss: 0.0694 - accuracy: 0.9716\n",
            "Epoch 87/100\n",
            "804/804 [==============================] - 11s 14ms/step - loss: 0.0702 - accuracy: 0.9714\n",
            "Epoch 88/100\n",
            "804/804 [==============================] - 12s 15ms/step - loss: 0.0694 - accuracy: 0.9713\n",
            "Epoch 89/100\n",
            "804/804 [==============================] - 14s 17ms/step - loss: 0.0690 - accuracy: 0.9719\n",
            "Epoch 90/100\n",
            "804/804 [==============================] - ETA: 0s - loss: 0.0696 - accuracy: 0.9719\n",
            "Epoch 90: saving model to checkpoints-Optimization1/weights.90.hdf5\n",
            "804/804 [==============================] - 12s 15ms/step - loss: 0.0696 - accuracy: 0.9719\n",
            "Epoch 91/100\n",
            "804/804 [==============================] - 12s 14ms/step - loss: 0.0687 - accuracy: 0.9721\n",
            "Epoch 92/100\n",
            "804/804 [==============================] - 12s 15ms/step - loss: 0.0686 - accuracy: 0.9715\n",
            "Epoch 93/100\n",
            "804/804 [==============================] - 11s 14ms/step - loss: 0.0687 - accuracy: 0.9721\n",
            "Epoch 94/100\n",
            "804/804 [==============================] - 12s 15ms/step - loss: 0.0687 - accuracy: 0.9718\n",
            "Epoch 95/100\n",
            "802/804 [============================>.] - ETA: 0s - loss: 0.0693 - accuracy: 0.9718\n",
            "Epoch 95: saving model to checkpoints-Optimization1/weights.95.hdf5\n",
            "804/804 [==============================] - 14s 18ms/step - loss: 0.0694 - accuracy: 0.9718\n",
            "Epoch 96/100\n",
            "804/804 [==============================] - 13s 16ms/step - loss: 0.0698 - accuracy: 0.9712\n",
            "Epoch 97/100\n",
            "804/804 [==============================] - 13s 16ms/step - loss: 0.0687 - accuracy: 0.9720\n",
            "Epoch 98/100\n",
            "804/804 [==============================] - 13s 17ms/step - loss: 0.0686 - accuracy: 0.9713\n",
            "Epoch 99/100\n",
            "804/804 [==============================] - 13s 16ms/step - loss: 0.0681 - accuracy: 0.9720\n",
            "Epoch 100/100\n",
            "802/804 [============================>.] - ETA: 0s - loss: 0.0683 - accuracy: 0.9721\n",
            "Epoch 100: saving model to checkpoints-Optimization1/weights.100.hdf5\n",
            "804/804 [==============================] - 12s 15ms/step - loss: 0.0685 - accuracy: 0.9720\n"
          ]
        }
      ]
    },
    {
      "cell_type": "code",
      "source": [
        "# Evaluate the model using the test data\n",
        "model_loss, model_accuracy = nn.evaluate(X_test_scaled,y_test,verbose=2)\n",
        "print(f\"Loss: {model_loss}, Accuracy: {model_accuracy}\")"
      ],
      "metadata": {
        "id": "NPMouAhLHi3L",
        "colab": {
          "base_uri": "https://localhost:8080/"
        },
        "outputId": "6a19618b-f91b-4a7d-a4dc-1454479c7b79"
      },
      "execution_count": 15,
      "outputs": [
        {
          "output_type": "stream",
          "name": "stdout",
          "text": [
            "268/268 - 1s - loss: 1.0732 - accuracy: 0.6197 - 994ms/epoch - 4ms/step\n",
            "Loss: 1.073165774345398, Accuracy: 0.6197084784507751\n"
          ]
        }
      ]
    },
    {
      "cell_type": "code",
      "source": [
        "nn.save('/content/drive/MyDrive/Module21/AlphabetSoupCharity-1.h5')"
      ],
      "metadata": {
        "id": "Xg0DtyflHi0k"
      },
      "execution_count": 17,
      "outputs": []
    },
    {
      "cell_type": "code",
      "source": [],
      "metadata": {
        "id": "V3CuqhDgHixo"
      },
      "execution_count": null,
      "outputs": []
    },
    {
      "cell_type": "code",
      "source": [],
      "metadata": {
        "id": "fcu517qpHir5"
      },
      "execution_count": null,
      "outputs": []
    },
    {
      "cell_type": "code",
      "source": [],
      "metadata": {
        "id": "5PEUBs8RHine"
      },
      "execution_count": null,
      "outputs": []
    }
  ]
}