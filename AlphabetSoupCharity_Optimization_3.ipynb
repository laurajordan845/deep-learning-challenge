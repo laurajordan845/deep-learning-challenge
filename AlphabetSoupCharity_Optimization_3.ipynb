{
  "cells": [
    {
      "cell_type": "markdown",
      "metadata": {
        "id": "view-in-github",
        "colab_type": "text"
      },
      "source": [
        "<a href=\"https://colab.research.google.com/github/laurajordan845/deep-learning-challenge/blob/main/AlphabetSoupCharity_Optimization_3.ipynb\" target=\"_parent\"><img src=\"https://colab.research.google.com/assets/colab-badge.svg\" alt=\"Open In Colab\"/></a>"
      ]
    },
    {
      "cell_type": "markdown",
      "metadata": {
        "id": "rOpyFMQnDUQp"
      },
      "source": [
        "# **Alphabet Soup Charity Optimization for Laura Jordan**"
      ]
    },
    {
      "cell_type": "markdown",
      "metadata": {
        "id": "VsgGZjASDf60"
      },
      "source": [
        "**Preprocessing**"
      ]
    },
    {
      "cell_type": "code",
      "execution_count": null,
      "metadata": {
        "colab": {
          "base_uri": "https://localhost:8080/",
          "height": 496
        },
        "id": "a-qmvlsVD2yB",
        "outputId": "e99647e4-8ee0-48e4-b834-21ffd73f17ac"
      },
      "outputs": [
        {
          "output_type": "execute_result",
          "data": {
            "text/plain": [
              "        EIN                                      NAME APPLICATION_TYPE  \\\n",
              "0  10520599              BLUE KNIGHTS MOTORCYCLE CLUB              T10   \n",
              "1  10531628    AMERICAN CHESAPEAKE CLUB CHARITABLE TR               T3   \n",
              "2  10547893        ST CLOUD PROFESSIONAL FIREFIGHTERS               T5   \n",
              "3  10553066            SOUTHSIDE ATHLETIC ASSOCIATION               T3   \n",
              "4  10556103  GENETIC RESEARCH INSTITUTE OF THE DESERT               T3   \n",
              "\n",
              "        AFFILIATION CLASSIFICATION      USE_CASE  ORGANIZATION  STATUS  \\\n",
              "0       Independent          C1000    ProductDev   Association       1   \n",
              "1       Independent          C2000  Preservation  Co-operative       1   \n",
              "2  CompanySponsored          C3000    ProductDev   Association       1   \n",
              "3  CompanySponsored          C2000  Preservation         Trust       1   \n",
              "4       Independent          C1000     Heathcare         Trust       1   \n",
              "\n",
              "      INCOME_AMT SPECIAL_CONSIDERATIONS  ASK_AMT  IS_SUCCESSFUL  \n",
              "0              0                      N     5000              1  \n",
              "1         1-9999                      N   108590              1  \n",
              "2              0                      N     5000              0  \n",
              "3    10000-24999                      N     6692              1  \n",
              "4  100000-499999                      N   142590              1  "
            ],
            "text/html": [
              "\n",
              "  <div id=\"df-7d08688b-a147-4a3a-af8c-3f7c80f2af4c\">\n",
              "    <div class=\"colab-df-container\">\n",
              "      <div>\n",
              "<style scoped>\n",
              "    .dataframe tbody tr th:only-of-type {\n",
              "        vertical-align: middle;\n",
              "    }\n",
              "\n",
              "    .dataframe tbody tr th {\n",
              "        vertical-align: top;\n",
              "    }\n",
              "\n",
              "    .dataframe thead th {\n",
              "        text-align: right;\n",
              "    }\n",
              "</style>\n",
              "<table border=\"1\" class=\"dataframe\">\n",
              "  <thead>\n",
              "    <tr style=\"text-align: right;\">\n",
              "      <th></th>\n",
              "      <th>EIN</th>\n",
              "      <th>NAME</th>\n",
              "      <th>APPLICATION_TYPE</th>\n",
              "      <th>AFFILIATION</th>\n",
              "      <th>CLASSIFICATION</th>\n",
              "      <th>USE_CASE</th>\n",
              "      <th>ORGANIZATION</th>\n",
              "      <th>STATUS</th>\n",
              "      <th>INCOME_AMT</th>\n",
              "      <th>SPECIAL_CONSIDERATIONS</th>\n",
              "      <th>ASK_AMT</th>\n",
              "      <th>IS_SUCCESSFUL</th>\n",
              "    </tr>\n",
              "  </thead>\n",
              "  <tbody>\n",
              "    <tr>\n",
              "      <th>0</th>\n",
              "      <td>10520599</td>\n",
              "      <td>BLUE KNIGHTS MOTORCYCLE CLUB</td>\n",
              "      <td>T10</td>\n",
              "      <td>Independent</td>\n",
              "      <td>C1000</td>\n",
              "      <td>ProductDev</td>\n",
              "      <td>Association</td>\n",
              "      <td>1</td>\n",
              "      <td>0</td>\n",
              "      <td>N</td>\n",
              "      <td>5000</td>\n",
              "      <td>1</td>\n",
              "    </tr>\n",
              "    <tr>\n",
              "      <th>1</th>\n",
              "      <td>10531628</td>\n",
              "      <td>AMERICAN CHESAPEAKE CLUB CHARITABLE TR</td>\n",
              "      <td>T3</td>\n",
              "      <td>Independent</td>\n",
              "      <td>C2000</td>\n",
              "      <td>Preservation</td>\n",
              "      <td>Co-operative</td>\n",
              "      <td>1</td>\n",
              "      <td>1-9999</td>\n",
              "      <td>N</td>\n",
              "      <td>108590</td>\n",
              "      <td>1</td>\n",
              "    </tr>\n",
              "    <tr>\n",
              "      <th>2</th>\n",
              "      <td>10547893</td>\n",
              "      <td>ST CLOUD PROFESSIONAL FIREFIGHTERS</td>\n",
              "      <td>T5</td>\n",
              "      <td>CompanySponsored</td>\n",
              "      <td>C3000</td>\n",
              "      <td>ProductDev</td>\n",
              "      <td>Association</td>\n",
              "      <td>1</td>\n",
              "      <td>0</td>\n",
              "      <td>N</td>\n",
              "      <td>5000</td>\n",
              "      <td>0</td>\n",
              "    </tr>\n",
              "    <tr>\n",
              "      <th>3</th>\n",
              "      <td>10553066</td>\n",
              "      <td>SOUTHSIDE ATHLETIC ASSOCIATION</td>\n",
              "      <td>T3</td>\n",
              "      <td>CompanySponsored</td>\n",
              "      <td>C2000</td>\n",
              "      <td>Preservation</td>\n",
              "      <td>Trust</td>\n",
              "      <td>1</td>\n",
              "      <td>10000-24999</td>\n",
              "      <td>N</td>\n",
              "      <td>6692</td>\n",
              "      <td>1</td>\n",
              "    </tr>\n",
              "    <tr>\n",
              "      <th>4</th>\n",
              "      <td>10556103</td>\n",
              "      <td>GENETIC RESEARCH INSTITUTE OF THE DESERT</td>\n",
              "      <td>T3</td>\n",
              "      <td>Independent</td>\n",
              "      <td>C1000</td>\n",
              "      <td>Heathcare</td>\n",
              "      <td>Trust</td>\n",
              "      <td>1</td>\n",
              "      <td>100000-499999</td>\n",
              "      <td>N</td>\n",
              "      <td>142590</td>\n",
              "      <td>1</td>\n",
              "    </tr>\n",
              "  </tbody>\n",
              "</table>\n",
              "</div>\n",
              "      <button class=\"colab-df-convert\" onclick=\"convertToInteractive('df-7d08688b-a147-4a3a-af8c-3f7c80f2af4c')\"\n",
              "              title=\"Convert this dataframe to an interactive table.\"\n",
              "              style=\"display:none;\">\n",
              "        \n",
              "  <svg xmlns=\"http://www.w3.org/2000/svg\" height=\"24px\"viewBox=\"0 0 24 24\"\n",
              "       width=\"24px\">\n",
              "    <path d=\"M0 0h24v24H0V0z\" fill=\"none\"/>\n",
              "    <path d=\"M18.56 5.44l.94 2.06.94-2.06 2.06-.94-2.06-.94-.94-2.06-.94 2.06-2.06.94zm-11 1L8.5 8.5l.94-2.06 2.06-.94-2.06-.94L8.5 2.5l-.94 2.06-2.06.94zm10 10l.94 2.06.94-2.06 2.06-.94-2.06-.94-.94-2.06-.94 2.06-2.06.94z\"/><path d=\"M17.41 7.96l-1.37-1.37c-.4-.4-.92-.59-1.43-.59-.52 0-1.04.2-1.43.59L10.3 9.45l-7.72 7.72c-.78.78-.78 2.05 0 2.83L4 21.41c.39.39.9.59 1.41.59.51 0 1.02-.2 1.41-.59l7.78-7.78 2.81-2.81c.8-.78.8-2.07 0-2.86zM5.41 20L4 18.59l7.72-7.72 1.47 1.35L5.41 20z\"/>\n",
              "  </svg>\n",
              "      </button>\n",
              "      \n",
              "  <style>\n",
              "    .colab-df-container {\n",
              "      display:flex;\n",
              "      flex-wrap:wrap;\n",
              "      gap: 12px;\n",
              "    }\n",
              "\n",
              "    .colab-df-convert {\n",
              "      background-color: #E8F0FE;\n",
              "      border: none;\n",
              "      border-radius: 50%;\n",
              "      cursor: pointer;\n",
              "      display: none;\n",
              "      fill: #1967D2;\n",
              "      height: 32px;\n",
              "      padding: 0 0 0 0;\n",
              "      width: 32px;\n",
              "    }\n",
              "\n",
              "    .colab-df-convert:hover {\n",
              "      background-color: #E2EBFA;\n",
              "      box-shadow: 0px 1px 2px rgba(60, 64, 67, 0.3), 0px 1px 3px 1px rgba(60, 64, 67, 0.15);\n",
              "      fill: #174EA6;\n",
              "    }\n",
              "\n",
              "    [theme=dark] .colab-df-convert {\n",
              "      background-color: #3B4455;\n",
              "      fill: #D2E3FC;\n",
              "    }\n",
              "\n",
              "    [theme=dark] .colab-df-convert:hover {\n",
              "      background-color: #434B5C;\n",
              "      box-shadow: 0px 1px 3px 1px rgba(0, 0, 0, 0.15);\n",
              "      filter: drop-shadow(0px 1px 2px rgba(0, 0, 0, 0.3));\n",
              "      fill: #FFFFFF;\n",
              "    }\n",
              "  </style>\n",
              "\n",
              "      <script>\n",
              "        const buttonEl =\n",
              "          document.querySelector('#df-7d08688b-a147-4a3a-af8c-3f7c80f2af4c button.colab-df-convert');\n",
              "        buttonEl.style.display =\n",
              "          google.colab.kernel.accessAllowed ? 'block' : 'none';\n",
              "\n",
              "        async function convertToInteractive(key) {\n",
              "          const element = document.querySelector('#df-7d08688b-a147-4a3a-af8c-3f7c80f2af4c');\n",
              "          const dataTable =\n",
              "            await google.colab.kernel.invokeFunction('convertToInteractive',\n",
              "                                                     [key], {});\n",
              "          if (!dataTable) return;\n",
              "\n",
              "          const docLinkHtml = 'Like what you see? Visit the ' +\n",
              "            '<a target=\"_blank\" href=https://colab.research.google.com/notebooks/data_table.ipynb>data table notebook</a>'\n",
              "            + ' to learn more about interactive tables.';\n",
              "          element.innerHTML = '';\n",
              "          dataTable['output_type'] = 'display_data';\n",
              "          await google.colab.output.renderOutput(dataTable, element);\n",
              "          const docLink = document.createElement('div');\n",
              "          docLink.innerHTML = docLinkHtml;\n",
              "          element.appendChild(docLink);\n",
              "        }\n",
              "      </script>\n",
              "    </div>\n",
              "  </div>\n",
              "  "
            ]
          },
          "metadata": {},
          "execution_count": 12
        }
      ],
      "source": [
        "import os\n",
        "# Import our dependencies\n",
        "from sklearn.model_selection import train_test_split\n",
        "from sklearn.preprocessing import StandardScaler\n",
        "import pandas as pd\n",
        "import tensorflow as tf\n",
        "\n",
        "application_df = pd.read_csv(\"https://static.bc-edx.com/data/dl-1-2/m21/lms/starter/charity_data.csv\")\n",
        "application_df.head()"
      ]
    },
    {
      "cell_type": "code",
      "execution_count": null,
      "metadata": {
        "colab": {
          "base_uri": "https://localhost:8080/"
        },
        "id": "9EpeUJYyHAmN",
        "outputId": "d81c1713-b0d9-4e21-d0dc-7c69eca96c57"
      },
      "outputs": [
        {
          "output_type": "execute_result",
          "data": {
            "text/plain": [
              "EIN                       34299\n",
              "NAME                      19568\n",
              "APPLICATION_TYPE             17\n",
              "AFFILIATION                   6\n",
              "CLASSIFICATION               71\n",
              "USE_CASE                      5\n",
              "ORGANIZATION                  4\n",
              "STATUS                        2\n",
              "INCOME_AMT                    9\n",
              "SPECIAL_CONSIDERATIONS        2\n",
              "ASK_AMT                    8747\n",
              "IS_SUCCESSFUL                 2\n",
              "dtype: int64"
            ]
          },
          "metadata": {},
          "execution_count": 13
        }
      ],
      "source": [
        "# Determine the number of unique values in each column.\n",
        "application_df.nunique()"
      ]
    },
    {
      "cell_type": "code",
      "execution_count": null,
      "metadata": {
        "colab": {
          "base_uri": "https://localhost:8080/"
        },
        "id": "vnVL26pXHM4B",
        "outputId": "0d185100-1b45-4cb4-a2ee-e37854bc0a4f"
      },
      "outputs": [
        {
          "output_type": "execute_result",
          "data": {
            "text/plain": [
              "T3     27037\n",
              "T4      1542\n",
              "T6      1216\n",
              "T5      1173\n",
              "T19     1065\n",
              "T8       737\n",
              "T7       725\n",
              "T10      528\n",
              "T9       156\n",
              "T13       66\n",
              "T12       27\n",
              "T2        16\n",
              "T25        3\n",
              "T14        3\n",
              "T29        2\n",
              "T15        2\n",
              "T17        1\n",
              "Name: APPLICATION_TYPE, dtype: int64"
            ]
          },
          "metadata": {},
          "execution_count": 14
        }
      ],
      "source": [
        "# Look at APPLICATION_TYPE value counts for binning\n",
        "app_type_counts = application_df['APPLICATION_TYPE'].value_counts()\n",
        "app_type_counts"
      ]
    },
    {
      "cell_type": "code",
      "execution_count": null,
      "metadata": {
        "colab": {
          "base_uri": "https://localhost:8080/"
        },
        "id": "0eearEqIHM9V",
        "outputId": "c796e4cb-9d9c-43f4-9c86-0f5414a4b7bf"
      },
      "outputs": [
        {
          "output_type": "execute_result",
          "data": {
            "text/plain": [
              "T3       27037\n",
              "T4        1542\n",
              "T6        1216\n",
              "T5        1173\n",
              "T19       1065\n",
              "T8         737\n",
              "T7         725\n",
              "T10        528\n",
              "Other      276\n",
              "Name: APPLICATION_TYPE, dtype: int64"
            ]
          },
          "metadata": {},
          "execution_count": 15
        }
      ],
      "source": [
        "# Choose a cutoff value and create a list of application types to be replaced\n",
        "# use the variable name `application_types_to_replace`\n",
        "application_types_to_replace = list(app_type_counts[app_type_counts < 500].index)\n",
        "\n",
        "\n",
        "# Replace in dataframe\n",
        "for app in application_types_to_replace:\n",
        "    application_df['APPLICATION_TYPE'] = application_df['APPLICATION_TYPE'].replace(app,\"Other\")\n",
        "\n",
        "# Check to make sure binning was successful\n",
        "application_df['APPLICATION_TYPE'].value_counts()\n",
        "\n",
        "# 500 was chosen because of the displayed counts provided by the starter code notebook"
      ]
    },
    {
      "cell_type": "code",
      "execution_count": null,
      "metadata": {
        "colab": {
          "base_uri": "https://localhost:8080/"
        },
        "id": "VbHQHDyeHNAI",
        "outputId": "fd42a794-eb47-4a21-83c3-9070a004e4ab"
      },
      "outputs": [
        {
          "output_type": "execute_result",
          "data": {
            "text/plain": [
              "C1000    17326\n",
              "C2000     6074\n",
              "C1200     4837\n",
              "C3000     1918\n",
              "C2100     1883\n",
              "         ...  \n",
              "C4120        1\n",
              "C8210        1\n",
              "C2561        1\n",
              "C4500        1\n",
              "C2150        1\n",
              "Name: CLASSIFICATION, Length: 71, dtype: int64"
            ]
          },
          "metadata": {},
          "execution_count": 16
        }
      ],
      "source": [
        "# Look at CLASSIFICATION value counts for binning\n",
        "classifications = application_df['CLASSIFICATION'].value_counts()\n",
        "classifications"
      ]
    },
    {
      "cell_type": "code",
      "execution_count": null,
      "metadata": {
        "colab": {
          "base_uri": "https://localhost:8080/"
        },
        "id": "Mouc8YbpHNDQ",
        "outputId": "e2aa58dc-9aed-464e-ee29-e1b6827b36d1"
      },
      "outputs": [
        {
          "output_type": "execute_result",
          "data": {
            "text/plain": [
              "C1000    17326\n",
              "C2000     6074\n",
              "C1200     4837\n",
              "C3000     1918\n",
              "C2100     1883\n",
              "C7000      777\n",
              "C1700      287\n",
              "C4000      194\n",
              "C5000      116\n",
              "C1270      114\n",
              "C2700      104\n",
              "C2800       95\n",
              "C7100       75\n",
              "C1300       58\n",
              "C1280       50\n",
              "C1230       36\n",
              "C1400       34\n",
              "C7200       32\n",
              "C2300       32\n",
              "C1240       30\n",
              "C8000       20\n",
              "C7120       18\n",
              "C1500       16\n",
              "C1800       15\n",
              "C6000       15\n",
              "C1250       14\n",
              "C8200       11\n",
              "C1238       10\n",
              "C1278       10\n",
              "C1235        9\n",
              "C1237        9\n",
              "C7210        7\n",
              "C2400        6\n",
              "C1720        6\n",
              "C4100        6\n",
              "C1257        5\n",
              "C1600        5\n",
              "C1260        3\n",
              "C2710        3\n",
              "C0           3\n",
              "C3200        2\n",
              "C1234        2\n",
              "C1246        2\n",
              "C1267        2\n",
              "C1256        2\n",
              "Name: CLASSIFICATION, dtype: int64"
            ]
          },
          "metadata": {},
          "execution_count": 17
        }
      ],
      "source": [
        "# You may find it helpful to look at CLASSIFICATION value counts >1\n",
        "classifications[classifications > 1]"
      ]
    },
    {
      "cell_type": "code",
      "execution_count": null,
      "metadata": {
        "colab": {
          "base_uri": "https://localhost:8080/"
        },
        "id": "sP49ZikVHNFh",
        "outputId": "100553b0-6035-4bdb-df4d-c8930e64478b"
      },
      "outputs": [
        {
          "output_type": "execute_result",
          "data": {
            "text/plain": [
              "C1000    17326\n",
              "C2000     6074\n",
              "C1200     4837\n",
              "Other     2261\n",
              "C3000     1918\n",
              "C2100     1883\n",
              "Name: CLASSIFICATION, dtype: int64"
            ]
          },
          "metadata": {},
          "execution_count": 18
        }
      ],
      "source": [
        "# Choose a cutoff value and create a list of classifications to be replaced\n",
        "# use the variable name `classifications_to_replace`\n",
        "classifications_to_replace = list(classifications[classifications < 1000].index)\n",
        "\n",
        "# Replace in dataframe\n",
        "for cls in classifications_to_replace:\n",
        "    application_df['CLASSIFICATION'] = application_df['CLASSIFICATION'].replace(cls,\"Other\")\n",
        "    \n",
        "# Check to make sure binning was successful\n",
        "application_df['CLASSIFICATION'].value_counts()\n",
        "\n",
        "# 1,000 was chosen because of the displayed counts provided by the starter code notebook"
      ]
    },
    {
      "cell_type": "code",
      "execution_count": null,
      "metadata": {
        "id": "dhqL-u8fHNII"
      },
      "outputs": [],
      "source": [
        "# Convert categorical data to numeric with `pd.get_dummies`\n",
        "app_numeric = pd.get_dummies(application_df)"
      ]
    },
    {
      "cell_type": "code",
      "execution_count": null,
      "metadata": {
        "id": "e8lULd2THNKl"
      },
      "outputs": [],
      "source": [
        "# Split our preprocessed data into our features and target arrays\n",
        "X = app_numeric.drop(['IS_SUCCESSFUL'], axis=1)\n",
        "y = app_numeric['IS_SUCCESSFUL']\n",
        "\n",
        "# Split the preprocessed data into a training and testing dataset\n",
        "X_train, X_test, y_train, y_test = train_test_split(X, y, random_state = 10)"
      ]
    },
    {
      "cell_type": "code",
      "execution_count": null,
      "metadata": {
        "id": "QLLFOo_0HNNL"
      },
      "outputs": [],
      "source": [
        "# Create a StandardScaler instances\n",
        "scaler = StandardScaler()\n",
        "\n",
        "# Fit the StandardScaler\n",
        "X_scaler = scaler.fit(X_train)\n",
        "\n",
        "# Scale the data\n",
        "X_train_scaled = X_scaler.transform(X_train)\n",
        "X_test_scaled = X_scaler.transform(X_test)"
      ]
    },
    {
      "cell_type": "markdown",
      "metadata": {
        "id": "rdaH3gufHdcO"
      },
      "source": [
        "**Compile, Train and Evaluate the Model**"
      ]
    },
    {
      "cell_type": "code",
      "execution_count": null,
      "metadata": {
        "colab": {
          "base_uri": "https://localhost:8080/"
        },
        "id": "zVE9uPt7HiSM",
        "outputId": "aa3e67fb-d3eb-4cb3-d006-a56c869343a1"
      },
      "outputs": [
        {
          "output_type": "stream",
          "name": "stdout",
          "text": [
            "Model: \"sequential\"\n",
            "_________________________________________________________________\n",
            " Layer (type)                Output Shape              Param #   \n",
            "=================================================================\n",
            " dense (Dense)               (None, 5)                 98065     \n",
            "                                                                 \n",
            " dense_1 (Dense)             (None, 15)                90        \n",
            "                                                                 \n",
            " dense_2 (Dense)             (None, 1)                 16        \n",
            "                                                                 \n",
            "=================================================================\n",
            "Total params: 98,171\n",
            "Trainable params: 98,171\n",
            "Non-trainable params: 0\n",
            "_________________________________________________________________\n"
          ]
        }
      ],
      "source": [
        "# Define the model - deep neural net, i.e., the number of input features and hidden nodes for each layer.\n",
        "number_input_features =len(X_train_scaled[1])\n",
        "hidden_nodes_layer1 = 5\n",
        "hidden_nodes_layer2 = 15\n",
        "\n",
        "nn = tf.keras.models.Sequential()\n",
        "\n",
        "# First hidden layer\n",
        "nn.add(tf.keras.layers.Dense(units=hidden_nodes_layer1, input_dim=number_input_features, activation=\"relu\"))\n",
        "\n",
        "# Second hidden layer\n",
        "nn.add(tf.keras.layers.Dense(units=hidden_nodes_layer2, activation=\"relu\"))\n",
        "\n",
        "# Output layer\n",
        "nn.add(tf.keras.layers.Dense(units=1, activation=\"sigmoid\"))\n",
        "\n",
        "# Check the structure of the model\n",
        "nn.summary()"
      ]
    },
    {
      "cell_type": "code",
      "execution_count": null,
      "metadata": {
        "id": "SzpH_NL4PVx9"
      },
      "outputs": [],
      "source": [
        "# Import checkpoint dependencies\n",
        "from tensorflow.keras.callbacks import ModelCheckpoint\n",
        "\n",
        "# Define the checkpoint path and file names\n",
        "os.makedirs(\"checkpoints-Optimization3/\", exist_ok=True)\n",
        "path = \"checkpoints-Optimization3/weights.{epoch:02d}.hdf5\" "
      ]
    },
    {
      "cell_type": "code",
      "execution_count": null,
      "metadata": {
        "id": "gtnu_N2nHi8r"
      },
      "outputs": [],
      "source": [
        "# Compile the model\n",
        "nn.compile(loss=\"binary_crossentropy\", optimizer=\"adam\", metrics=[\"accuracy\"])"
      ]
    },
    {
      "cell_type": "code",
      "execution_count": null,
      "metadata": {
        "colab": {
          "base_uri": "https://localhost:8080/"
        },
        "id": "As_0xZ2-Hi5y",
        "outputId": "5e1a0cec-c9e5-45ee-ed11-2dbef1bbce4b"
      },
      "outputs": [
        {
          "output_type": "stream",
          "name": "stderr",
          "text": [
            "WARNING:tensorflow:`period` argument is deprecated. Please use `save_freq` to specify the frequency in number of batches seen.\n"
          ]
        },
        {
          "output_type": "stream",
          "name": "stdout",
          "text": [
            "Epoch 1/100\n",
            "804/804 [==============================] - 9s 9ms/step - loss: 0.5670 - accuracy: 0.7194\n",
            "Epoch 2/100\n",
            "804/804 [==============================] - 7s 9ms/step - loss: 0.2074 - accuracy: 0.9210\n",
            "Epoch 3/100\n",
            "804/804 [==============================] - 7s 8ms/step - loss: 0.1194 - accuracy: 0.9505\n",
            "Epoch 4/100\n",
            "804/804 [==============================] - 9s 11ms/step - loss: 0.1070 - accuracy: 0.9528\n",
            "Epoch 5/100\n",
            "802/804 [============================>.] - ETA: 0s - loss: 0.1035 - accuracy: 0.9561\n",
            "Epoch 5: saving model to checkpoints-Optimization3/weights.05.hdf5\n",
            "804/804 [==============================] - 8s 10ms/step - loss: 0.1036 - accuracy: 0.9560\n",
            "Epoch 6/100\n",
            "804/804 [==============================] - 7s 9ms/step - loss: 0.1014 - accuracy: 0.9571\n",
            "Epoch 7/100\n",
            "804/804 [==============================] - 7s 8ms/step - loss: 0.1005 - accuracy: 0.9574\n",
            "Epoch 8/100\n",
            "804/804 [==============================] - 7s 9ms/step - loss: 0.1003 - accuracy: 0.9575\n",
            "Epoch 9/100\n",
            "804/804 [==============================] - 7s 9ms/step - loss: 0.1011 - accuracy: 0.9577\n",
            "Epoch 10/100\n",
            "800/804 [============================>.] - ETA: 0s - loss: 0.0994 - accuracy: 0.9582\n",
            "Epoch 10: saving model to checkpoints-Optimization3/weights.10.hdf5\n",
            "804/804 [==============================] - 7s 9ms/step - loss: 0.0994 - accuracy: 0.9581\n",
            "Epoch 11/100\n",
            "804/804 [==============================] - 7s 9ms/step - loss: 0.0985 - accuracy: 0.9585\n",
            "Epoch 12/100\n",
            "804/804 [==============================] - 7s 8ms/step - loss: 0.0983 - accuracy: 0.9589\n",
            "Epoch 13/100\n",
            "804/804 [==============================] - 7s 9ms/step - loss: 0.0978 - accuracy: 0.9586\n",
            "Epoch 14/100\n",
            "804/804 [==============================] - 7s 8ms/step - loss: 0.0975 - accuracy: 0.9583\n",
            "Epoch 15/100\n",
            "801/804 [============================>.] - ETA: 0s - loss: 0.0977 - accuracy: 0.9583\n",
            "Epoch 15: saving model to checkpoints-Optimization3/weights.15.hdf5\n",
            "804/804 [==============================] - 7s 9ms/step - loss: 0.0976 - accuracy: 0.9584\n",
            "Epoch 16/100\n",
            "804/804 [==============================] - 7s 8ms/step - loss: 0.0971 - accuracy: 0.9591\n",
            "Epoch 17/100\n",
            "804/804 [==============================] - 7s 9ms/step - loss: 0.0967 - accuracy: 0.9590\n",
            "Epoch 18/100\n",
            "804/804 [==============================] - 7s 8ms/step - loss: 0.0967 - accuracy: 0.9584\n",
            "Epoch 19/100\n",
            "804/804 [==============================] - 9s 11ms/step - loss: 0.0963 - accuracy: 0.9592\n",
            "Epoch 20/100\n",
            "797/804 [============================>.] - ETA: 0s - loss: 0.0962 - accuracy: 0.9595\n",
            "Epoch 20: saving model to checkpoints-Optimization3/weights.20.hdf5\n",
            "804/804 [==============================] - 6s 8ms/step - loss: 0.0961 - accuracy: 0.9597\n",
            "Epoch 21/100\n",
            "804/804 [==============================] - 7s 9ms/step - loss: 0.0960 - accuracy: 0.9590\n",
            "Epoch 22/100\n",
            "804/804 [==============================] - 7s 8ms/step - loss: 0.0960 - accuracy: 0.9593\n",
            "Epoch 23/100\n",
            "804/804 [==============================] - 7s 9ms/step - loss: 0.0960 - accuracy: 0.9587\n",
            "Epoch 24/100\n",
            "804/804 [==============================] - 7s 8ms/step - loss: 0.0957 - accuracy: 0.9597\n",
            "Epoch 25/100\n",
            "799/804 [============================>.] - ETA: 0s - loss: 0.0955 - accuracy: 0.9590\n",
            "Epoch 25: saving model to checkpoints-Optimization3/weights.25.hdf5\n",
            "804/804 [==============================] - 7s 9ms/step - loss: 0.0957 - accuracy: 0.9589\n",
            "Epoch 26/100\n",
            "804/804 [==============================] - 7s 8ms/step - loss: 0.0956 - accuracy: 0.9595\n",
            "Epoch 27/100\n",
            "804/804 [==============================] - 7s 9ms/step - loss: 0.0955 - accuracy: 0.9594\n",
            "Epoch 28/100\n",
            "804/804 [==============================] - 7s 9ms/step - loss: 0.0952 - accuracy: 0.9593\n",
            "Epoch 29/100\n",
            "804/804 [==============================] - 7s 8ms/step - loss: 0.0950 - accuracy: 0.9596\n",
            "Epoch 30/100\n",
            "800/804 [============================>.] - ETA: 0s - loss: 0.0949 - accuracy: 0.9595\n",
            "Epoch 30: saving model to checkpoints-Optimization3/weights.30.hdf5\n",
            "804/804 [==============================] - 7s 9ms/step - loss: 0.0948 - accuracy: 0.9596\n",
            "Epoch 31/100\n",
            "804/804 [==============================] - 7s 9ms/step - loss: 0.0944 - accuracy: 0.9599\n",
            "Epoch 32/100\n",
            "804/804 [==============================] - 8s 10ms/step - loss: 0.0946 - accuracy: 0.9602\n",
            "Epoch 33/100\n",
            "804/804 [==============================] - 7s 9ms/step - loss: 0.0942 - accuracy: 0.9597\n",
            "Epoch 34/100\n",
            "804/804 [==============================] - 8s 9ms/step - loss: 0.0940 - accuracy: 0.9595\n",
            "Epoch 35/100\n",
            "799/804 [============================>.] - ETA: 0s - loss: 0.0938 - accuracy: 0.9596\n",
            "Epoch 35: saving model to checkpoints-Optimization3/weights.35.hdf5\n",
            "804/804 [==============================] - 7s 8ms/step - loss: 0.0938 - accuracy: 0.9597\n",
            "Epoch 36/100\n",
            "804/804 [==============================] - 8s 10ms/step - loss: 0.0941 - accuracy: 0.9600\n",
            "Epoch 37/100\n",
            "804/804 [==============================] - 7s 8ms/step - loss: 0.0936 - accuracy: 0.9603\n",
            "Epoch 38/100\n",
            "804/804 [==============================] - 7s 9ms/step - loss: 0.0969 - accuracy: 0.9588\n",
            "Epoch 39/100\n",
            "804/804 [==============================] - 7s 8ms/step - loss: 0.0937 - accuracy: 0.9607\n",
            "Epoch 40/100\n",
            "801/804 [============================>.] - ETA: 0s - loss: 0.0920 - accuracy: 0.9622\n",
            "Epoch 40: saving model to checkpoints-Optimization3/weights.40.hdf5\n",
            "804/804 [==============================] - 7s 9ms/step - loss: 0.0922 - accuracy: 0.9621\n",
            "Epoch 41/100\n",
            "804/804 [==============================] - 7s 9ms/step - loss: 0.0919 - accuracy: 0.9619\n",
            "Epoch 42/100\n",
            "804/804 [==============================] - 7s 9ms/step - loss: 0.0915 - accuracy: 0.9622\n",
            "Epoch 43/100\n",
            "804/804 [==============================] - 7s 9ms/step - loss: 0.0912 - accuracy: 0.9625\n",
            "Epoch 44/100\n",
            "804/804 [==============================] - 7s 8ms/step - loss: 0.0913 - accuracy: 0.9623\n",
            "Epoch 45/100\n",
            "801/804 [============================>.] - ETA: 0s - loss: 0.0913 - accuracy: 0.9623\n",
            "Epoch 45: saving model to checkpoints-Optimization3/weights.45.hdf5\n",
            "804/804 [==============================] - 9s 11ms/step - loss: 0.0912 - accuracy: 0.9623\n",
            "Epoch 46/100\n",
            "804/804 [==============================] - 7s 8ms/step - loss: 0.0911 - accuracy: 0.9626\n",
            "Epoch 47/100\n",
            "804/804 [==============================] - 8s 10ms/step - loss: 0.0915 - accuracy: 0.9623\n",
            "Epoch 48/100\n",
            "804/804 [==============================] - 7s 8ms/step - loss: 0.0907 - accuracy: 0.9630\n",
            "Epoch 49/100\n",
            "804/804 [==============================] - 8s 9ms/step - loss: 0.0907 - accuracy: 0.9629\n",
            "Epoch 50/100\n",
            "799/804 [============================>.] - ETA: 0s - loss: 0.0906 - accuracy: 0.9631\n",
            "Epoch 50: saving model to checkpoints-Optimization3/weights.50.hdf5\n",
            "804/804 [==============================] - 6s 8ms/step - loss: 0.0905 - accuracy: 0.9631\n",
            "Epoch 51/100\n",
            "804/804 [==============================] - 7s 9ms/step - loss: 0.0907 - accuracy: 0.9627\n",
            "Epoch 52/100\n",
            "804/804 [==============================] - 6s 8ms/step - loss: 0.0902 - accuracy: 0.9629\n",
            "Epoch 53/100\n",
            "804/804 [==============================] - 7s 9ms/step - loss: 0.0904 - accuracy: 0.9629\n",
            "Epoch 54/100\n",
            "804/804 [==============================] - 6s 8ms/step - loss: 0.0903 - accuracy: 0.9633\n",
            "Epoch 55/100\n",
            "800/804 [============================>.] - ETA: 0s - loss: 0.0906 - accuracy: 0.9627\n",
            "Epoch 55: saving model to checkpoints-Optimization3/weights.55.hdf5\n",
            "804/804 [==============================] - 7s 9ms/step - loss: 0.0906 - accuracy: 0.9626\n",
            "Epoch 56/100\n",
            "804/804 [==============================] - 7s 9ms/step - loss: 0.0902 - accuracy: 0.9632\n",
            "Epoch 57/100\n",
            "804/804 [==============================] - 8s 10ms/step - loss: 0.0901 - accuracy: 0.9633\n",
            "Epoch 58/100\n",
            "804/804 [==============================] - 8s 10ms/step - loss: 0.0903 - accuracy: 0.9629\n",
            "Epoch 59/100\n",
            "804/804 [==============================] - 7s 9ms/step - loss: 0.0901 - accuracy: 0.9632\n",
            "Epoch 60/100\n",
            "802/804 [============================>.] - ETA: 0s - loss: 0.0904 - accuracy: 0.9634\n",
            "Epoch 60: saving model to checkpoints-Optimization3/weights.60.hdf5\n",
            "804/804 [==============================] - 8s 10ms/step - loss: 0.0903 - accuracy: 0.9634\n",
            "Epoch 61/100\n",
            "804/804 [==============================] - 7s 9ms/step - loss: 0.0902 - accuracy: 0.9630\n",
            "Epoch 62/100\n",
            "804/804 [==============================] - 8s 10ms/step - loss: 0.0901 - accuracy: 0.9633\n",
            "Epoch 63/100\n",
            "804/804 [==============================] - 7s 9ms/step - loss: 0.0900 - accuracy: 0.9633\n",
            "Epoch 64/100\n",
            "804/804 [==============================] - 8s 10ms/step - loss: 0.0899 - accuracy: 0.9639\n",
            "Epoch 65/100\n",
            "803/804 [============================>.] - ETA: 0s - loss: 0.0897 - accuracy: 0.9633\n",
            "Epoch 65: saving model to checkpoints-Optimization3/weights.65.hdf5\n",
            "804/804 [==============================] - 8s 10ms/step - loss: 0.0896 - accuracy: 0.9633\n",
            "Epoch 66/100\n",
            "804/804 [==============================] - 7s 9ms/step - loss: 0.0900 - accuracy: 0.9631\n",
            "Epoch 67/100\n",
            "804/804 [==============================] - 8s 10ms/step - loss: 0.0894 - accuracy: 0.9635\n",
            "Epoch 68/100\n",
            "804/804 [==============================] - 7s 9ms/step - loss: 0.0896 - accuracy: 0.9637\n",
            "Epoch 69/100\n",
            "804/804 [==============================] - 8s 10ms/step - loss: 0.0894 - accuracy: 0.9630\n",
            "Epoch 70/100\n",
            "801/804 [============================>.] - ETA: 0s - loss: 0.0895 - accuracy: 0.9637\n",
            "Epoch 70: saving model to checkpoints-Optimization3/weights.70.hdf5\n",
            "804/804 [==============================] - 7s 9ms/step - loss: 0.0897 - accuracy: 0.9637\n",
            "Epoch 71/100\n",
            "804/804 [==============================] - 8s 10ms/step - loss: 0.0894 - accuracy: 0.9633\n",
            "Epoch 72/100\n",
            "804/804 [==============================] - 7s 9ms/step - loss: 0.0894 - accuracy: 0.9634\n",
            "Epoch 73/100\n",
            "804/804 [==============================] - 8s 10ms/step - loss: 0.0891 - accuracy: 0.9637\n",
            "Epoch 74/100\n",
            "804/804 [==============================] - 8s 10ms/step - loss: 0.0891 - accuracy: 0.9635\n",
            "Epoch 75/100\n",
            "803/804 [============================>.] - ETA: 0s - loss: 0.0891 - accuracy: 0.9633\n",
            "Epoch 75: saving model to checkpoints-Optimization3/weights.75.hdf5\n",
            "804/804 [==============================] - 6s 8ms/step - loss: 0.0890 - accuracy: 0.9634\n",
            "Epoch 76/100\n",
            "804/804 [==============================] - 8s 10ms/step - loss: 0.0889 - accuracy: 0.9634\n",
            "Epoch 77/100\n",
            "804/804 [==============================] - 7s 8ms/step - loss: 0.0889 - accuracy: 0.9635\n",
            "Epoch 78/100\n",
            "804/804 [==============================] - 9s 11ms/step - loss: 0.0885 - accuracy: 0.9640\n",
            "Epoch 79/100\n",
            "804/804 [==============================] - 6s 8ms/step - loss: 0.0887 - accuracy: 0.9635\n",
            "Epoch 80/100\n",
            "802/804 [============================>.] - ETA: 0s - loss: 0.0884 - accuracy: 0.9638\n",
            "Epoch 80: saving model to checkpoints-Optimization3/weights.80.hdf5\n",
            "804/804 [==============================] - 7s 9ms/step - loss: 0.0884 - accuracy: 0.9638\n",
            "Epoch 81/100\n",
            "804/804 [==============================] - 7s 8ms/step - loss: 0.0884 - accuracy: 0.9637\n",
            "Epoch 82/100\n",
            "804/804 [==============================] - 7s 9ms/step - loss: 0.0884 - accuracy: 0.9640\n",
            "Epoch 83/100\n",
            "804/804 [==============================] - 10s 12ms/step - loss: 0.0884 - accuracy: 0.9636\n",
            "Epoch 84/100\n",
            "804/804 [==============================] - 8s 10ms/step - loss: 0.0884 - accuracy: 0.9634\n",
            "Epoch 85/100\n",
            "801/804 [============================>.] - ETA: 0s - loss: 0.0882 - accuracy: 0.9640\n",
            "Epoch 85: saving model to checkpoints-Optimization3/weights.85.hdf5\n",
            "804/804 [==============================] - 8s 10ms/step - loss: 0.0881 - accuracy: 0.9641\n",
            "Epoch 86/100\n",
            "804/804 [==============================] - 7s 8ms/step - loss: 0.0880 - accuracy: 0.9638\n",
            "Epoch 87/100\n",
            "804/804 [==============================] - 8s 10ms/step - loss: 0.0881 - accuracy: 0.9636\n",
            "Epoch 88/100\n",
            "804/804 [==============================] - 7s 9ms/step - loss: 0.0879 - accuracy: 0.9641\n",
            "Epoch 89/100\n",
            "804/804 [==============================] - 8s 10ms/step - loss: 0.0880 - accuracy: 0.9637\n",
            "Epoch 90/100\n",
            "804/804 [==============================] - ETA: 0s - loss: 0.0879 - accuracy: 0.9640\n",
            "Epoch 90: saving model to checkpoints-Optimization3/weights.90.hdf5\n",
            "804/804 [==============================] - 7s 8ms/step - loss: 0.0879 - accuracy: 0.9640\n",
            "Epoch 91/100\n",
            "804/804 [==============================] - 8s 10ms/step - loss: 0.0878 - accuracy: 0.9638\n",
            "Epoch 92/100\n",
            "804/804 [==============================] - 7s 9ms/step - loss: 0.0877 - accuracy: 0.9633\n",
            "Epoch 93/100\n",
            "804/804 [==============================] - 7s 9ms/step - loss: 0.0874 - accuracy: 0.9637\n",
            "Epoch 94/100\n",
            "804/804 [==============================] - 7s 9ms/step - loss: 0.0873 - accuracy: 0.9637\n",
            "Epoch 95/100\n",
            "798/804 [============================>.] - ETA: 0s - loss: 0.0879 - accuracy: 0.9635\n",
            "Epoch 95: saving model to checkpoints-Optimization3/weights.95.hdf5\n",
            "804/804 [==============================] - 7s 9ms/step - loss: 0.0878 - accuracy: 0.9637\n",
            "Epoch 96/100\n",
            "804/804 [==============================] - 8s 10ms/step - loss: 0.0875 - accuracy: 0.9638\n",
            "Epoch 97/100\n",
            "804/804 [==============================] - 7s 9ms/step - loss: 0.0872 - accuracy: 0.9638\n",
            "Epoch 98/100\n",
            "804/804 [==============================] - 8s 10ms/step - loss: 0.0872 - accuracy: 0.9640\n",
            "Epoch 99/100\n",
            "804/804 [==============================] - 8s 10ms/step - loss: 0.0874 - accuracy: 0.9636\n",
            "Epoch 100/100\n",
            "803/804 [============================>.] - ETA: 0s - loss: 0.0874 - accuracy: 0.9635\n",
            "Epoch 100: saving model to checkpoints-Optimization3/weights.100.hdf5\n",
            "804/804 [==============================] - 8s 10ms/step - loss: 0.0874 - accuracy: 0.9635\n"
          ]
        }
      ],
      "source": [
        "# Create a callback that saves the model's weights every five epochs\n",
        "checkpoint_callback = ModelCheckpoint(filepath=path, verbose=1, save_weights_only=True, save_freq='epoch', period=5)\n",
        "\n",
        "# Train the model\n",
        "fit_model = nn.fit(X_train_scaled, y_train, epochs=100, callbacks=[checkpoint_callback])\n",
        "\n",
        "# epochs = 100 based on starter code display"
      ]
    },
    {
      "cell_type": "code",
      "execution_count": null,
      "metadata": {
        "colab": {
          "base_uri": "https://localhost:8080/"
        },
        "id": "NPMouAhLHi3L",
        "outputId": "b5d14420-6262-4082-f6cb-87369092331d"
      },
      "outputs": [
        {
          "output_type": "stream",
          "name": "stdout",
          "text": [
            "268/268 - 1s - loss: 0.5994 - accuracy: 0.5978 - 1s/epoch - 4ms/step\n",
            "Loss: 0.5994167327880859, Accuracy: 0.5977842807769775\n"
          ]
        }
      ],
      "source": [
        "# Evaluate the model using the test data\n",
        "model_loss, model_accuracy = nn.evaluate(X_test_scaled,y_test,verbose=2)\n",
        "print(f\"Loss: {model_loss}, Accuracy: {model_accuracy}\")"
      ]
    },
    {
      "cell_type": "code",
      "execution_count": null,
      "metadata": {
        "id": "Xg0DtyflHi0k"
      },
      "outputs": [],
      "source": [
        "nn.save('/content/drive/MyDrive/Module21/AlphabetSoupCharity-3.h5')"
      ]
    },
    {
      "cell_type": "code",
      "execution_count": null,
      "metadata": {
        "id": "V3CuqhDgHixo"
      },
      "outputs": [],
      "source": []
    },
    {
      "cell_type": "code",
      "execution_count": null,
      "metadata": {
        "id": "fcu517qpHir5"
      },
      "outputs": [],
      "source": []
    },
    {
      "cell_type": "code",
      "execution_count": null,
      "metadata": {
        "id": "5PEUBs8RHine"
      },
      "outputs": [],
      "source": []
    }
  ],
  "metadata": {
    "colab": {
      "provenance": [],
      "authorship_tag": "ABX9TyMWTDLU2JULRVxh01zcaeUb",
      "include_colab_link": true
    },
    "kernelspec": {
      "display_name": "Python 3",
      "name": "python3"
    },
    "language_info": {
      "name": "python"
    }
  },
  "nbformat": 4,
  "nbformat_minor": 0
}