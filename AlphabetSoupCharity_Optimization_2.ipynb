{
  "cells": [
    {
      "cell_type": "markdown",
      "metadata": {
        "id": "view-in-github",
        "colab_type": "text"
      },
      "source": [
        "<a href=\"https://colab.research.google.com/github/laurajordan845/deep-learning-challenge/blob/main/AlphabetSoupCharity_Optimization_2.ipynb\" target=\"_parent\"><img src=\"https://colab.research.google.com/assets/colab-badge.svg\" alt=\"Open In Colab\"/></a>"
      ]
    },
    {
      "cell_type": "markdown",
      "metadata": {
        "id": "rOpyFMQnDUQp"
      },
      "source": [
        "# **Alphabet Soup Charity Optimization for Laura Jordan**"
      ]
    },
    {
      "cell_type": "markdown",
      "metadata": {
        "id": "VsgGZjASDf60"
      },
      "source": [
        "**Preprocessing**"
      ]
    },
    {
      "cell_type": "code",
      "execution_count": null,
      "metadata": {
        "colab": {
          "base_uri": "https://localhost:8080/",
          "height": 302
        },
        "id": "a-qmvlsVD2yB",
        "outputId": "62c3358f-e7b2-4988-ffc4-792dcf4120fc"
      },
      "outputs": [
        {
          "data": {
            "text/html": [
              "\n",
              "  <div id=\"df-97ffcd62-4d60-4916-8981-ab1aa66be5b6\">\n",
              "    <div class=\"colab-df-container\">\n",
              "      <div>\n",
              "<style scoped>\n",
              "    .dataframe tbody tr th:only-of-type {\n",
              "        vertical-align: middle;\n",
              "    }\n",
              "\n",
              "    .dataframe tbody tr th {\n",
              "        vertical-align: top;\n",
              "    }\n",
              "\n",
              "    .dataframe thead th {\n",
              "        text-align: right;\n",
              "    }\n",
              "</style>\n",
              "<table border=\"1\" class=\"dataframe\">\n",
              "  <thead>\n",
              "    <tr style=\"text-align: right;\">\n",
              "      <th></th>\n",
              "      <th>EIN</th>\n",
              "      <th>NAME</th>\n",
              "      <th>APPLICATION_TYPE</th>\n",
              "      <th>AFFILIATION</th>\n",
              "      <th>CLASSIFICATION</th>\n",
              "      <th>USE_CASE</th>\n",
              "      <th>ORGANIZATION</th>\n",
              "      <th>STATUS</th>\n",
              "      <th>INCOME_AMT</th>\n",
              "      <th>SPECIAL_CONSIDERATIONS</th>\n",
              "      <th>ASK_AMT</th>\n",
              "      <th>IS_SUCCESSFUL</th>\n",
              "    </tr>\n",
              "  </thead>\n",
              "  <tbody>\n",
              "    <tr>\n",
              "      <th>0</th>\n",
              "      <td>10520599</td>\n",
              "      <td>BLUE KNIGHTS MOTORCYCLE CLUB</td>\n",
              "      <td>T10</td>\n",
              "      <td>Independent</td>\n",
              "      <td>C1000</td>\n",
              "      <td>ProductDev</td>\n",
              "      <td>Association</td>\n",
              "      <td>1</td>\n",
              "      <td>0</td>\n",
              "      <td>N</td>\n",
              "      <td>5000</td>\n",
              "      <td>1</td>\n",
              "    </tr>\n",
              "    <tr>\n",
              "      <th>1</th>\n",
              "      <td>10531628</td>\n",
              "      <td>AMERICAN CHESAPEAKE CLUB CHARITABLE TR</td>\n",
              "      <td>T3</td>\n",
              "      <td>Independent</td>\n",
              "      <td>C2000</td>\n",
              "      <td>Preservation</td>\n",
              "      <td>Co-operative</td>\n",
              "      <td>1</td>\n",
              "      <td>1-9999</td>\n",
              "      <td>N</td>\n",
              "      <td>108590</td>\n",
              "      <td>1</td>\n",
              "    </tr>\n",
              "    <tr>\n",
              "      <th>2</th>\n",
              "      <td>10547893</td>\n",
              "      <td>ST CLOUD PROFESSIONAL FIREFIGHTERS</td>\n",
              "      <td>T5</td>\n",
              "      <td>CompanySponsored</td>\n",
              "      <td>C3000</td>\n",
              "      <td>ProductDev</td>\n",
              "      <td>Association</td>\n",
              "      <td>1</td>\n",
              "      <td>0</td>\n",
              "      <td>N</td>\n",
              "      <td>5000</td>\n",
              "      <td>0</td>\n",
              "    </tr>\n",
              "    <tr>\n",
              "      <th>3</th>\n",
              "      <td>10553066</td>\n",
              "      <td>SOUTHSIDE ATHLETIC ASSOCIATION</td>\n",
              "      <td>T3</td>\n",
              "      <td>CompanySponsored</td>\n",
              "      <td>C2000</td>\n",
              "      <td>Preservation</td>\n",
              "      <td>Trust</td>\n",
              "      <td>1</td>\n",
              "      <td>10000-24999</td>\n",
              "      <td>N</td>\n",
              "      <td>6692</td>\n",
              "      <td>1</td>\n",
              "    </tr>\n",
              "    <tr>\n",
              "      <th>4</th>\n",
              "      <td>10556103</td>\n",
              "      <td>GENETIC RESEARCH INSTITUTE OF THE DESERT</td>\n",
              "      <td>T3</td>\n",
              "      <td>Independent</td>\n",
              "      <td>C1000</td>\n",
              "      <td>Heathcare</td>\n",
              "      <td>Trust</td>\n",
              "      <td>1</td>\n",
              "      <td>100000-499999</td>\n",
              "      <td>N</td>\n",
              "      <td>142590</td>\n",
              "      <td>1</td>\n",
              "    </tr>\n",
              "  </tbody>\n",
              "</table>\n",
              "</div>\n",
              "      <button class=\"colab-df-convert\" onclick=\"convertToInteractive('df-97ffcd62-4d60-4916-8981-ab1aa66be5b6')\"\n",
              "              title=\"Convert this dataframe to an interactive table.\"\n",
              "              style=\"display:none;\">\n",
              "        \n",
              "  <svg xmlns=\"http://www.w3.org/2000/svg\" height=\"24px\"viewBox=\"0 0 24 24\"\n",
              "       width=\"24px\">\n",
              "    <path d=\"M0 0h24v24H0V0z\" fill=\"none\"/>\n",
              "    <path d=\"M18.56 5.44l.94 2.06.94-2.06 2.06-.94-2.06-.94-.94-2.06-.94 2.06-2.06.94zm-11 1L8.5 8.5l.94-2.06 2.06-.94-2.06-.94L8.5 2.5l-.94 2.06-2.06.94zm10 10l.94 2.06.94-2.06 2.06-.94-2.06-.94-.94-2.06-.94 2.06-2.06.94z\"/><path d=\"M17.41 7.96l-1.37-1.37c-.4-.4-.92-.59-1.43-.59-.52 0-1.04.2-1.43.59L10.3 9.45l-7.72 7.72c-.78.78-.78 2.05 0 2.83L4 21.41c.39.39.9.59 1.41.59.51 0 1.02-.2 1.41-.59l7.78-7.78 2.81-2.81c.8-.78.8-2.07 0-2.86zM5.41 20L4 18.59l7.72-7.72 1.47 1.35L5.41 20z\"/>\n",
              "  </svg>\n",
              "      </button>\n",
              "      \n",
              "  <style>\n",
              "    .colab-df-container {\n",
              "      display:flex;\n",
              "      flex-wrap:wrap;\n",
              "      gap: 12px;\n",
              "    }\n",
              "\n",
              "    .colab-df-convert {\n",
              "      background-color: #E8F0FE;\n",
              "      border: none;\n",
              "      border-radius: 50%;\n",
              "      cursor: pointer;\n",
              "      display: none;\n",
              "      fill: #1967D2;\n",
              "      height: 32px;\n",
              "      padding: 0 0 0 0;\n",
              "      width: 32px;\n",
              "    }\n",
              "\n",
              "    .colab-df-convert:hover {\n",
              "      background-color: #E2EBFA;\n",
              "      box-shadow: 0px 1px 2px rgba(60, 64, 67, 0.3), 0px 1px 3px 1px rgba(60, 64, 67, 0.15);\n",
              "      fill: #174EA6;\n",
              "    }\n",
              "\n",
              "    [theme=dark] .colab-df-convert {\n",
              "      background-color: #3B4455;\n",
              "      fill: #D2E3FC;\n",
              "    }\n",
              "\n",
              "    [theme=dark] .colab-df-convert:hover {\n",
              "      background-color: #434B5C;\n",
              "      box-shadow: 0px 1px 3px 1px rgba(0, 0, 0, 0.15);\n",
              "      filter: drop-shadow(0px 1px 2px rgba(0, 0, 0, 0.3));\n",
              "      fill: #FFFFFF;\n",
              "    }\n",
              "  </style>\n",
              "\n",
              "      <script>\n",
              "        const buttonEl =\n",
              "          document.querySelector('#df-97ffcd62-4d60-4916-8981-ab1aa66be5b6 button.colab-df-convert');\n",
              "        buttonEl.style.display =\n",
              "          google.colab.kernel.accessAllowed ? 'block' : 'none';\n",
              "\n",
              "        async function convertToInteractive(key) {\n",
              "          const element = document.querySelector('#df-97ffcd62-4d60-4916-8981-ab1aa66be5b6');\n",
              "          const dataTable =\n",
              "            await google.colab.kernel.invokeFunction('convertToInteractive',\n",
              "                                                     [key], {});\n",
              "          if (!dataTable) return;\n",
              "\n",
              "          const docLinkHtml = 'Like what you see? Visit the ' +\n",
              "            '<a target=\"_blank\" href=https://colab.research.google.com/notebooks/data_table.ipynb>data table notebook</a>'\n",
              "            + ' to learn more about interactive tables.';\n",
              "          element.innerHTML = '';\n",
              "          dataTable['output_type'] = 'display_data';\n",
              "          await google.colab.output.renderOutput(dataTable, element);\n",
              "          const docLink = document.createElement('div');\n",
              "          docLink.innerHTML = docLinkHtml;\n",
              "          element.appendChild(docLink);\n",
              "        }\n",
              "      </script>\n",
              "    </div>\n",
              "  </div>\n",
              "  "
            ],
            "text/plain": [
              "        EIN                                      NAME APPLICATION_TYPE  \\\n",
              "0  10520599              BLUE KNIGHTS MOTORCYCLE CLUB              T10   \n",
              "1  10531628    AMERICAN CHESAPEAKE CLUB CHARITABLE TR               T3   \n",
              "2  10547893        ST CLOUD PROFESSIONAL FIREFIGHTERS               T5   \n",
              "3  10553066            SOUTHSIDE ATHLETIC ASSOCIATION               T3   \n",
              "4  10556103  GENETIC RESEARCH INSTITUTE OF THE DESERT               T3   \n",
              "\n",
              "        AFFILIATION CLASSIFICATION      USE_CASE  ORGANIZATION  STATUS  \\\n",
              "0       Independent          C1000    ProductDev   Association       1   \n",
              "1       Independent          C2000  Preservation  Co-operative       1   \n",
              "2  CompanySponsored          C3000    ProductDev   Association       1   \n",
              "3  CompanySponsored          C2000  Preservation         Trust       1   \n",
              "4       Independent          C1000     Heathcare         Trust       1   \n",
              "\n",
              "      INCOME_AMT SPECIAL_CONSIDERATIONS  ASK_AMT  IS_SUCCESSFUL  \n",
              "0              0                      N     5000              1  \n",
              "1         1-9999                      N   108590              1  \n",
              "2              0                      N     5000              0  \n",
              "3    10000-24999                      N     6692              1  \n",
              "4  100000-499999                      N   142590              1  "
            ]
          },
          "execution_count": 1,
          "metadata": {},
          "output_type": "execute_result"
        }
      ],
      "source": [
        "import os\n",
        "# Import our dependencies\n",
        "from sklearn.model_selection import train_test_split\n",
        "from sklearn.preprocessing import StandardScaler\n",
        "import pandas as pd\n",
        "import tensorflow as tf\n",
        "\n",
        "application_df = pd.read_csv(\"https://static.bc-edx.com/data/dl-1-2/m21/lms/starter/charity_data.csv\")\n",
        "application_df.head()"
      ]
    },
    {
      "cell_type": "code",
      "execution_count": null,
      "metadata": {
        "colab": {
          "base_uri": "https://localhost:8080/"
        },
        "id": "9EpeUJYyHAmN",
        "outputId": "550b7bff-bc18-4352-da9a-a7adb197dc05"
      },
      "outputs": [
        {
          "data": {
            "text/plain": [
              "EIN                       34299\n",
              "NAME                      19568\n",
              "APPLICATION_TYPE             17\n",
              "AFFILIATION                   6\n",
              "CLASSIFICATION               71\n",
              "USE_CASE                      5\n",
              "ORGANIZATION                  4\n",
              "STATUS                        2\n",
              "INCOME_AMT                    9\n",
              "SPECIAL_CONSIDERATIONS        2\n",
              "ASK_AMT                    8747\n",
              "IS_SUCCESSFUL                 2\n",
              "dtype: int64"
            ]
          },
          "execution_count": 2,
          "metadata": {},
          "output_type": "execute_result"
        }
      ],
      "source": [
        "# Determine the number of unique values in each column.\n",
        "application_df.nunique()"
      ]
    },
    {
      "cell_type": "code",
      "execution_count": null,
      "metadata": {
        "colab": {
          "base_uri": "https://localhost:8080/"
        },
        "id": "vnVL26pXHM4B",
        "outputId": "09f5ed9e-d5e1-41cc-abc9-398c9f715521"
      },
      "outputs": [
        {
          "data": {
            "text/plain": [
              "T3     27037\n",
              "T4      1542\n",
              "T6      1216\n",
              "T5      1173\n",
              "T19     1065\n",
              "T8       737\n",
              "T7       725\n",
              "T10      528\n",
              "T9       156\n",
              "T13       66\n",
              "T12       27\n",
              "T2        16\n",
              "T25        3\n",
              "T14        3\n",
              "T29        2\n",
              "T15        2\n",
              "T17        1\n",
              "Name: APPLICATION_TYPE, dtype: int64"
            ]
          },
          "execution_count": 3,
          "metadata": {},
          "output_type": "execute_result"
        }
      ],
      "source": [
        "# Look at APPLICATION_TYPE value counts for binning\n",
        "app_type_counts = application_df['APPLICATION_TYPE'].value_counts()\n",
        "app_type_counts"
      ]
    },
    {
      "cell_type": "code",
      "execution_count": null,
      "metadata": {
        "colab": {
          "base_uri": "https://localhost:8080/"
        },
        "id": "0eearEqIHM9V",
        "outputId": "1fc643b6-11a7-4aba-98d0-02d7508c7139"
      },
      "outputs": [
        {
          "data": {
            "text/plain": [
              "T3       27037\n",
              "T4        1542\n",
              "T6        1216\n",
              "T5        1173\n",
              "T19       1065\n",
              "T8         737\n",
              "T7         725\n",
              "T10        528\n",
              "Other      276\n",
              "Name: APPLICATION_TYPE, dtype: int64"
            ]
          },
          "execution_count": 4,
          "metadata": {},
          "output_type": "execute_result"
        }
      ],
      "source": [
        "# Choose a cutoff value and create a list of application types to be replaced\n",
        "# use the variable name `application_types_to_replace`\n",
        "application_types_to_replace = list(app_type_counts[app_type_counts < 500].index)\n",
        "\n",
        "\n",
        "# Replace in dataframe\n",
        "for app in application_types_to_replace:\n",
        "    application_df['APPLICATION_TYPE'] = application_df['APPLICATION_TYPE'].replace(app,\"Other\")\n",
        "\n",
        "# Check to make sure binning was successful\n",
        "application_df['APPLICATION_TYPE'].value_counts()\n",
        "\n",
        "# 500 was chosen because of the displayed counts provided by the starter code notebook"
      ]
    },
    {
      "cell_type": "code",
      "execution_count": null,
      "metadata": {
        "colab": {
          "base_uri": "https://localhost:8080/"
        },
        "id": "VbHQHDyeHNAI",
        "outputId": "94dcd60a-d90b-49b6-ec8f-cfd850be646e"
      },
      "outputs": [
        {
          "data": {
            "text/plain": [
              "C1000    17326\n",
              "C2000     6074\n",
              "C1200     4837\n",
              "C3000     1918\n",
              "C2100     1883\n",
              "         ...  \n",
              "C4120        1\n",
              "C8210        1\n",
              "C2561        1\n",
              "C4500        1\n",
              "C2150        1\n",
              "Name: CLASSIFICATION, Length: 71, dtype: int64"
            ]
          },
          "execution_count": 5,
          "metadata": {},
          "output_type": "execute_result"
        }
      ],
      "source": [
        "# Look at CLASSIFICATION value counts for binning\n",
        "classifications = application_df['CLASSIFICATION'].value_counts()\n",
        "classifications"
      ]
    },
    {
      "cell_type": "code",
      "execution_count": null,
      "metadata": {
        "colab": {
          "base_uri": "https://localhost:8080/"
        },
        "id": "Mouc8YbpHNDQ",
        "outputId": "56486caf-492a-48be-9193-fab7d2f7a15f"
      },
      "outputs": [
        {
          "data": {
            "text/plain": [
              "C1000    17326\n",
              "C2000     6074\n",
              "C1200     4837\n",
              "C3000     1918\n",
              "C2100     1883\n",
              "C7000      777\n",
              "C1700      287\n",
              "C4000      194\n",
              "C5000      116\n",
              "C1270      114\n",
              "C2700      104\n",
              "C2800       95\n",
              "C7100       75\n",
              "C1300       58\n",
              "C1280       50\n",
              "C1230       36\n",
              "C1400       34\n",
              "C7200       32\n",
              "C2300       32\n",
              "C1240       30\n",
              "C8000       20\n",
              "C7120       18\n",
              "C1500       16\n",
              "C1800       15\n",
              "C6000       15\n",
              "C1250       14\n",
              "C8200       11\n",
              "C1238       10\n",
              "C1278       10\n",
              "C1235        9\n",
              "C1237        9\n",
              "C7210        7\n",
              "C2400        6\n",
              "C1720        6\n",
              "C4100        6\n",
              "C1257        5\n",
              "C1600        5\n",
              "C1260        3\n",
              "C2710        3\n",
              "C0           3\n",
              "C3200        2\n",
              "C1234        2\n",
              "C1246        2\n",
              "C1267        2\n",
              "C1256        2\n",
              "Name: CLASSIFICATION, dtype: int64"
            ]
          },
          "execution_count": 6,
          "metadata": {},
          "output_type": "execute_result"
        }
      ],
      "source": [
        "# You may find it helpful to look at CLASSIFICATION value counts >1\n",
        "classifications[classifications > 1]"
      ]
    },
    {
      "cell_type": "code",
      "execution_count": null,
      "metadata": {
        "colab": {
          "base_uri": "https://localhost:8080/"
        },
        "id": "sP49ZikVHNFh",
        "outputId": "c1890ec6-6b70-4a9f-8806-e9bf4946bfc7"
      },
      "outputs": [
        {
          "data": {
            "text/plain": [
              "C1000    17326\n",
              "C2000     6074\n",
              "C1200     4837\n",
              "Other     2261\n",
              "C3000     1918\n",
              "C2100     1883\n",
              "Name: CLASSIFICATION, dtype: int64"
            ]
          },
          "execution_count": 7,
          "metadata": {},
          "output_type": "execute_result"
        }
      ],
      "source": [
        "# Choose a cutoff value and create a list of classifications to be replaced\n",
        "# use the variable name `classifications_to_replace`\n",
        "classifications_to_replace = list(classifications[classifications < 1000].index)\n",
        "\n",
        "# Replace in dataframe\n",
        "for cls in classifications_to_replace:\n",
        "    application_df['CLASSIFICATION'] = application_df['CLASSIFICATION'].replace(cls,\"Other\")\n",
        "    \n",
        "# Check to make sure binning was successful\n",
        "application_df['CLASSIFICATION'].value_counts()\n",
        "\n",
        "# 1,000 was chosen because of the displayed counts provided by the starter code notebook"
      ]
    },
    {
      "cell_type": "code",
      "execution_count": null,
      "metadata": {
        "id": "dhqL-u8fHNII"
      },
      "outputs": [],
      "source": [
        "# Convert categorical data to numeric with `pd.get_dummies`\n",
        "app_numeric = pd.get_dummies(application_df)"
      ]
    },
    {
      "cell_type": "code",
      "execution_count": null,
      "metadata": {
        "id": "e8lULd2THNKl"
      },
      "outputs": [],
      "source": [
        "# Split our preprocessed data into our features and target arrays\n",
        "X = app_numeric.drop(['IS_SUCCESSFUL'], axis=1)\n",
        "y = app_numeric['IS_SUCCESSFUL']\n",
        "\n",
        "# Split the preprocessed data into a training and testing dataset\n",
        "X_train, X_test, y_train, y_test = train_test_split(X, y, random_state = 10)"
      ]
    },
    {
      "cell_type": "code",
      "execution_count": null,
      "metadata": {
        "id": "QLLFOo_0HNNL"
      },
      "outputs": [],
      "source": [
        "# Create a StandardScaler instances\n",
        "scaler = StandardScaler()\n",
        "\n",
        "# Fit the StandardScaler\n",
        "X_scaler = scaler.fit(X_train)\n",
        "\n",
        "# Scale the data\n",
        "X_train_scaled = X_scaler.transform(X_train)\n",
        "X_test_scaled = X_scaler.transform(X_test)"
      ]
    },
    {
      "cell_type": "markdown",
      "metadata": {
        "id": "rdaH3gufHdcO"
      },
      "source": [
        "**Compile, Train and Evaluate the Model**"
      ]
    },
    {
      "cell_type": "code",
      "execution_count": null,
      "metadata": {
        "colab": {
          "base_uri": "https://localhost:8080/"
        },
        "id": "zVE9uPt7HiSM",
        "outputId": "55195a2f-fe05-4777-dc05-b91321e614c4"
      },
      "outputs": [
        {
          "name": "stdout",
          "output_type": "stream",
          "text": [
            "Model: \"sequential\"\n",
            "_________________________________________________________________\n",
            " Layer (type)                Output Shape              Param #   \n",
            "=================================================================\n",
            " dense (Dense)               (None, 10)                196130    \n",
            "                                                                 \n",
            " dense_1 (Dense)             (None, 20)                220       \n",
            "                                                                 \n",
            " dense_2 (Dense)             (None, 1)                 21        \n",
            "                                                                 \n",
            "=================================================================\n",
            "Total params: 196,371\n",
            "Trainable params: 196,371\n",
            "Non-trainable params: 0\n",
            "_________________________________________________________________\n"
          ]
        }
      ],
      "source": [
        "# Define the model - deep neural net, i.e., the number of input features and hidden nodes for each layer.\n",
        "number_input_features =len(X_train_scaled[1])\n",
        "hidden_nodes_layer1 = 10\n",
        "hidden_nodes_layer2 = 20\n",
        "\n",
        "nn = tf.keras.models.Sequential()\n",
        "\n",
        "# First hidden layer\n",
        "nn.add(tf.keras.layers.Dense(units=hidden_nodes_layer1, input_dim=number_input_features, activation=\"relu\"))\n",
        "\n",
        "# Second hidden layer\n",
        "nn.add(tf.keras.layers.Dense(units=hidden_nodes_layer2, activation=\"relu\"))\n",
        "\n",
        "# Output layer\n",
        "nn.add(tf.keras.layers.Dense(units=1, activation=\"sigmoid\"))\n",
        "\n",
        "# Check the structure of the model\n",
        "nn.summary()"
      ]
    },
    {
      "cell_type": "code",
      "execution_count": null,
      "metadata": {
        "id": "SzpH_NL4PVx9"
      },
      "outputs": [],
      "source": [
        "# Import checkpoint dependencies\n",
        "from tensorflow.keras.callbacks import ModelCheckpoint\n",
        "\n",
        "# Define the checkpoint path and file names\n",
        "os.makedirs(\"checkpoints-Optimization2/\", exist_ok=True)\n",
        "path = \"checkpoints-Optimization2/weights.{epoch:02d}.hdf5\" "
      ]
    },
    {
      "cell_type": "code",
      "execution_count": null,
      "metadata": {
        "id": "gtnu_N2nHi8r"
      },
      "outputs": [],
      "source": [
        "# Compile the model\n",
        "nn.compile(loss=\"binary_crossentropy\", optimizer=\"adam\", metrics=[\"accuracy\"])"
      ]
    },
    {
      "cell_type": "code",
      "execution_count": null,
      "metadata": {
        "colab": {
          "background_save": true,
          "base_uri": "https://localhost:8080/"
        },
        "id": "As_0xZ2-Hi5y",
        "outputId": "69bec8d2-5e45-4974-c45e-787a559f645e"
      },
      "outputs": [
        {
          "name": "stderr",
          "output_type": "stream",
          "text": [
            "WARNING:tensorflow:`period` argument is deprecated. Please use `save_freq` to specify the frequency in number of batches seen.\n"
          ]
        },
        {
          "name": "stdout",
          "output_type": "stream",
          "text": [
            "Epoch 1/100\n",
            "804/804 [==============================] - 8s 9ms/step - loss: 0.5139 - accuracy: 0.7454\n",
            "Epoch 2/100\n",
            "804/804 [==============================] - 6s 7ms/step - loss: 0.2785 - accuracy: 0.8781\n",
            "Epoch 3/100\n",
            "804/804 [==============================] - 7s 8ms/step - loss: 0.1506 - accuracy: 0.9404\n",
            "Epoch 4/100\n",
            "804/804 [==============================] - 6s 7ms/step - loss: 0.1282 - accuracy: 0.9485\n",
            "Epoch 5/100\n",
            "799/804 [============================>.] - ETA: 0s - loss: 0.1098 - accuracy: 0.9564\n",
            "Epoch 5: saving model to checkpoints-Optimization2/weights.05.hdf5\n",
            "804/804 [==============================] - 7s 8ms/step - loss: 0.1102 - accuracy: 0.9562\n",
            "Epoch 6/100\n",
            "804/804 [==============================] - 6s 7ms/step - loss: 0.0968 - accuracy: 0.9614\n",
            "Epoch 7/100\n",
            "804/804 [==============================] - 7s 8ms/step - loss: 0.0953 - accuracy: 0.9624\n",
            "Epoch 8/100\n",
            "804/804 [==============================] - 6s 7ms/step - loss: 0.0943 - accuracy: 0.9624\n",
            "Epoch 9/100\n",
            "804/804 [==============================] - 6s 8ms/step - loss: 0.0942 - accuracy: 0.9622\n",
            "Epoch 10/100\n",
            "800/804 [============================>.] - ETA: 0s - loss: 0.0931 - accuracy: 0.9631\n",
            "Epoch 10: saving model to checkpoints-Optimization2/weights.10.hdf5\n",
            "804/804 [==============================] - 6s 7ms/step - loss: 0.0931 - accuracy: 0.9631\n",
            "Epoch 11/100\n",
            "804/804 [==============================] - 6s 8ms/step - loss: 0.0925 - accuracy: 0.9630\n",
            "Epoch 12/100\n",
            "804/804 [==============================] - 6s 7ms/step - loss: 0.0918 - accuracy: 0.9636\n",
            "Epoch 13/100\n",
            "804/804 [==============================] - 7s 8ms/step - loss: 0.0912 - accuracy: 0.9632\n",
            "Epoch 14/100\n",
            "804/804 [==============================] - 6s 7ms/step - loss: 0.0909 - accuracy: 0.9629\n",
            "Epoch 15/100\n",
            "802/804 [============================>.] - ETA: 0s - loss: 0.0905 - accuracy: 0.9639\n",
            "Epoch 15: saving model to checkpoints-Optimization2/weights.15.hdf5\n",
            "804/804 [==============================] - 7s 8ms/step - loss: 0.0907 - accuracy: 0.9638\n",
            "Epoch 16/100\n",
            "804/804 [==============================] - 6s 7ms/step - loss: 0.0901 - accuracy: 0.9634\n",
            "Epoch 17/100\n",
            "804/804 [==============================] - 7s 8ms/step - loss: 0.0900 - accuracy: 0.9639\n",
            "Epoch 18/100\n",
            "804/804 [==============================] - 6s 7ms/step - loss: 0.0894 - accuracy: 0.9642\n",
            "Epoch 19/100\n",
            "804/804 [==============================] - 7s 8ms/step - loss: 0.0893 - accuracy: 0.9642\n",
            "Epoch 20/100\n",
            "800/804 [============================>.] - ETA: 0s - loss: 0.0892 - accuracy: 0.9633\n",
            "Epoch 20: saving model to checkpoints-Optimization2/weights.20.hdf5\n",
            "804/804 [==============================] - 6s 8ms/step - loss: 0.0891 - accuracy: 0.9634\n",
            "Epoch 21/100\n",
            "804/804 [==============================] - 7s 8ms/step - loss: 0.0885 - accuracy: 0.9642\n",
            "Epoch 22/100\n",
            "804/804 [==============================] - 7s 8ms/step - loss: 0.0882 - accuracy: 0.9640\n",
            "Epoch 23/100\n",
            "804/804 [==============================] - 6s 8ms/step - loss: 0.0881 - accuracy: 0.9642\n",
            "Epoch 24/100\n",
            "804/804 [==============================] - 7s 8ms/step - loss: 0.0876 - accuracy: 0.9646\n",
            "Epoch 25/100\n",
            "799/804 [============================>.] - ETA: 0s - loss: 0.0872 - accuracy: 0.9643\n",
            "Epoch 25: saving model to checkpoints-Optimization2/weights.25.hdf5\n",
            "804/804 [==============================] - 6s 7ms/step - loss: 0.0872 - accuracy: 0.9643\n",
            "Epoch 26/100\n",
            "804/804 [==============================] - 7s 8ms/step - loss: 0.0867 - accuracy: 0.9646\n",
            "Epoch 27/100\n",
            "804/804 [==============================] - 6s 8ms/step - loss: 0.0867 - accuracy: 0.9652\n",
            "Epoch 28/100\n",
            "804/804 [==============================] - 7s 8ms/step - loss: 0.0862 - accuracy: 0.9649\n",
            "Epoch 29/100\n",
            "804/804 [==============================] - 6s 7ms/step - loss: 0.0862 - accuracy: 0.9655\n",
            "Epoch 30/100\n",
            "797/804 [============================>.] - ETA: 0s - loss: 0.0862 - accuracy: 0.9651\n",
            "Epoch 30: saving model to checkpoints-Optimization2/weights.30.hdf5\n",
            "804/804 [==============================] - 7s 8ms/step - loss: 0.0860 - accuracy: 0.9652\n",
            "Epoch 31/100\n",
            "804/804 [==============================] - 6s 7ms/step - loss: 0.0859 - accuracy: 0.9652\n",
            "Epoch 32/100\n",
            "804/804 [==============================] - 7s 8ms/step - loss: 0.0856 - accuracy: 0.9658\n",
            "Epoch 33/100\n",
            "804/804 [==============================] - 6s 7ms/step - loss: 0.0852 - accuracy: 0.9652\n",
            "Epoch 34/100\n",
            "804/804 [==============================] - 7s 9ms/step - loss: 0.0854 - accuracy: 0.9652\n",
            "Epoch 35/100\n",
            "802/804 [============================>.] - ETA: 0s - loss: 0.0851 - accuracy: 0.9650\n",
            "Epoch 35: saving model to checkpoints-Optimization2/weights.35.hdf5\n",
            "804/804 [==============================] - 6s 7ms/step - loss: 0.0851 - accuracy: 0.9651\n",
            "Epoch 36/100\n",
            "804/804 [==============================] - 7s 8ms/step - loss: 0.0850 - accuracy: 0.9658\n",
            "Epoch 37/100\n",
            "804/804 [==============================] - 6s 8ms/step - loss: 0.0852 - accuracy: 0.9651\n",
            "Epoch 38/100\n",
            "804/804 [==============================] - 7s 8ms/step - loss: 0.0847 - accuracy: 0.9654\n",
            "Epoch 39/100\n",
            "804/804 [==============================] - 6s 7ms/step - loss: 0.0845 - accuracy: 0.9651\n",
            "Epoch 40/100\n",
            "797/804 [============================>.] - ETA: 0s - loss: 0.0846 - accuracy: 0.9655\n",
            "Epoch 40: saving model to checkpoints-Optimization2/weights.40.hdf5\n",
            "804/804 [==============================] - 6s 8ms/step - loss: 0.0846 - accuracy: 0.9654\n",
            "Epoch 41/100\n",
            "804/804 [==============================] - 6s 7ms/step - loss: 0.0843 - accuracy: 0.9658\n",
            "Epoch 42/100\n",
            "804/804 [==============================] - 6s 8ms/step - loss: 0.0841 - accuracy: 0.9662\n",
            "Epoch 43/100\n",
            "804/804 [==============================] - 5s 7ms/step - loss: 0.0839 - accuracy: 0.9659\n",
            "Epoch 44/100\n",
            "804/804 [==============================] - 6s 8ms/step - loss: 0.0836 - accuracy: 0.9662\n",
            "Epoch 45/100\n",
            "798/804 [============================>.] - ETA: 0s - loss: 0.0835 - accuracy: 0.9661\n",
            "Epoch 45: saving model to checkpoints-Optimization2/weights.45.hdf5\n",
            "804/804 [==============================] - 5s 7ms/step - loss: 0.0834 - accuracy: 0.9661\n",
            "Epoch 46/100\n",
            "804/804 [==============================] - 6s 8ms/step - loss: 0.0837 - accuracy: 0.9660\n",
            "Epoch 47/100\n",
            "804/804 [==============================] - 5s 7ms/step - loss: 0.0833 - accuracy: 0.9661\n",
            "Epoch 48/100\n",
            "804/804 [==============================] - 6s 8ms/step - loss: 0.0832 - accuracy: 0.9661\n",
            "Epoch 49/100\n",
            "804/804 [==============================] - 6s 7ms/step - loss: 0.0834 - accuracy: 0.9659\n",
            "Epoch 50/100\n",
            "802/804 [============================>.] - ETA: 0s - loss: 0.0829 - accuracy: 0.9664\n",
            "Epoch 50: saving model to checkpoints-Optimization2/weights.50.hdf5\n",
            "804/804 [==============================] - 6s 8ms/step - loss: 0.0829 - accuracy: 0.9664\n",
            "Epoch 51/100\n",
            "804/804 [==============================] - 5s 7ms/step - loss: 0.0829 - accuracy: 0.9665\n",
            "Epoch 52/100\n",
            "804/804 [==============================] - 6s 8ms/step - loss: 0.0830 - accuracy: 0.9664\n",
            "Epoch 53/100\n",
            "804/804 [==============================] - 5s 7ms/step - loss: 0.0831 - accuracy: 0.9662\n",
            "Epoch 54/100\n",
            "804/804 [==============================] - 6s 8ms/step - loss: 0.0829 - accuracy: 0.9661\n",
            "Epoch 55/100\n",
            "802/804 [============================>.] - ETA: 0s - loss: 0.0826 - accuracy: 0.9662\n",
            "Epoch 55: saving model to checkpoints-Optimization2/weights.55.hdf5\n",
            "804/804 [==============================] - 5s 7ms/step - loss: 0.0826 - accuracy: 0.9662\n",
            "Epoch 56/100\n",
            "804/804 [==============================] - 6s 7ms/step - loss: 0.0826 - accuracy: 0.9662\n",
            "Epoch 57/100\n",
            "804/804 [==============================] - 6s 7ms/step - loss: 0.0827 - accuracy: 0.9668\n",
            "Epoch 58/100\n",
            "804/804 [==============================] - 5s 7ms/step - loss: 0.0823 - accuracy: 0.9667\n",
            "Epoch 59/100\n",
            "804/804 [==============================] - 6s 7ms/step - loss: 0.0831 - accuracy: 0.9659\n",
            "Epoch 60/100\n",
            "798/804 [============================>.] - ETA: 0s - loss: 0.0825 - accuracy: 0.9668\n",
            "Epoch 60: saving model to checkpoints-Optimization2/weights.60.hdf5\n",
            "804/804 [==============================] - 5s 6ms/step - loss: 0.0825 - accuracy: 0.9668\n",
            "Epoch 61/100\n",
            "804/804 [==============================] - 6s 7ms/step - loss: 0.0825 - accuracy: 0.9663\n",
            "Epoch 62/100\n",
            "804/804 [==============================] - 5s 6ms/step - loss: 0.0822 - accuracy: 0.9666\n",
            "Epoch 63/100\n",
            "804/804 [==============================] - 6s 7ms/step - loss: 0.0822 - accuracy: 0.9670\n",
            "Epoch 64/100\n",
            "804/804 [==============================] - 5s 6ms/step - loss: 0.0820 - accuracy: 0.9665\n",
            "Epoch 65/100\n",
            "800/804 [============================>.] - ETA: 0s - loss: 0.0817 - accuracy: 0.9664\n",
            "Epoch 65: saving model to checkpoints-Optimization2/weights.65.hdf5\n",
            "804/804 [==============================] - 5s 7ms/step - loss: 0.0816 - accuracy: 0.9665\n",
            "Epoch 66/100\n",
            "804/804 [==============================] - 5s 6ms/step - loss: 0.0816 - accuracy: 0.9668\n",
            "Epoch 67/100\n",
            "804/804 [==============================] - 5s 6ms/step - loss: 0.0817 - accuracy: 0.9665\n",
            "Epoch 68/100\n",
            "804/804 [==============================] - 6s 7ms/step - loss: 0.0815 - accuracy: 0.9672\n",
            "Epoch 69/100\n",
            "804/804 [==============================] - 5s 6ms/step - loss: 0.0822 - accuracy: 0.9669\n",
            "Epoch 70/100\n",
            "803/804 [============================>.] - ETA: 0s - loss: 0.0819 - accuracy: 0.9674\n",
            "Epoch 70: saving model to checkpoints-Optimization2/weights.70.hdf5\n",
            "804/804 [==============================] - 6s 7ms/step - loss: 0.0819 - accuracy: 0.9674\n",
            "Epoch 71/100\n",
            "804/804 [==============================] - 5s 6ms/step - loss: 0.0817 - accuracy: 0.9670\n",
            "Epoch 72/100\n",
            "804/804 [==============================] - 6s 7ms/step - loss: 0.0818 - accuracy: 0.9676\n",
            "Epoch 73/100\n",
            "804/804 [==============================] - 5s 6ms/step - loss: 0.0815 - accuracy: 0.9677\n",
            "Epoch 74/100\n",
            "804/804 [==============================] - 5s 6ms/step - loss: 0.0814 - accuracy: 0.9673\n",
            "Epoch 75/100\n",
            "799/804 [============================>.] - ETA: 0s - loss: 0.0809 - accuracy: 0.9672\n",
            "Epoch 75: saving model to checkpoints-Optimization2/weights.75.hdf5\n",
            "804/804 [==============================] - 6s 7ms/step - loss: 0.0811 - accuracy: 0.9671\n",
            "Epoch 76/100\n",
            "804/804 [==============================] - 5s 6ms/step - loss: 0.0814 - accuracy: 0.9673\n",
            "Epoch 77/100\n",
            "804/804 [==============================] - 6s 7ms/step - loss: 0.0813 - accuracy: 0.9673\n",
            "Epoch 78/100\n",
            "804/804 [==============================] - 5s 6ms/step - loss: 0.0814 - accuracy: 0.9673\n",
            "Epoch 79/100\n",
            "804/804 [==============================] - 6s 7ms/step - loss: 0.0812 - accuracy: 0.9673\n",
            "Epoch 80/100\n",
            "803/804 [============================>.] - ETA: 0s - loss: 0.0811 - accuracy: 0.9675\n",
            "Epoch 80: saving model to checkpoints-Optimization2/weights.80.hdf5\n",
            "804/804 [==============================] - 5s 6ms/step - loss: 0.0812 - accuracy: 0.9675\n",
            "Epoch 81/100\n",
            "804/804 [==============================] - 6s 7ms/step - loss: 0.0808 - accuracy: 0.9677\n",
            "Epoch 82/100\n",
            "804/804 [==============================] - 5s 6ms/step - loss: 0.0809 - accuracy: 0.9678\n",
            "Epoch 83/100\n",
            "804/804 [==============================] - 5s 6ms/step - loss: 0.0810 - accuracy: 0.9677\n",
            "Epoch 84/100\n",
            "804/804 [==============================] - 6s 7ms/step - loss: 0.0806 - accuracy: 0.9680\n",
            "Epoch 85/100\n",
            "802/804 [============================>.] - ETA: 0s - loss: 0.0804 - accuracy: 0.9676\n",
            "Epoch 85: saving model to checkpoints-Optimization2/weights.85.hdf5\n",
            "804/804 [==============================] - 5s 6ms/step - loss: 0.0805 - accuracy: 0.9675\n",
            "Epoch 86/100\n",
            "804/804 [==============================] - 6s 7ms/step - loss: 0.0810 - accuracy: 0.9675\n",
            "Epoch 87/100\n",
            "804/804 [==============================] - 5s 6ms/step - loss: 0.0807 - accuracy: 0.9675\n",
            "Epoch 88/100\n",
            "804/804 [==============================] - 6s 7ms/step - loss: 0.0808 - accuracy: 0.9677\n",
            "Epoch 89/100\n",
            "804/804 [==============================] - 5s 6ms/step - loss: 0.0807 - accuracy: 0.9675\n",
            "Epoch 90/100\n",
            "801/804 [============================>.] - ETA: 0s - loss: 0.0804 - accuracy: 0.9677\n",
            "Epoch 90: saving model to checkpoints-Optimization2/weights.90.hdf5\n",
            "804/804 [==============================] - 5s 6ms/step - loss: 0.0804 - accuracy: 0.9676\n",
            "Epoch 91/100\n",
            "804/804 [==============================] - 6s 7ms/step - loss: 0.0807 - accuracy: 0.9675\n",
            "Epoch 92/100\n",
            "804/804 [==============================] - 5s 6ms/step - loss: 0.0802 - accuracy: 0.9680\n",
            "Epoch 93/100\n",
            "804/804 [==============================] - 6s 7ms/step - loss: 0.0801 - accuracy: 0.9678\n",
            "Epoch 94/100\n",
            "804/804 [==============================] - 5s 6ms/step - loss: 0.0806 - accuracy: 0.9677\n",
            "Epoch 95/100\n",
            "803/804 [============================>.] - ETA: 0s - loss: 0.0804 - accuracy: 0.9673\n",
            "Epoch 95: saving model to checkpoints-Optimization2/weights.95.hdf5\n",
            "804/804 [==============================] - 6s 7ms/step - loss: 0.0804 - accuracy: 0.9674\n",
            "Epoch 96/100\n",
            "804/804 [==============================] - 5s 6ms/step - loss: 0.0800 - accuracy: 0.9680\n",
            "Epoch 97/100\n",
            "804/804 [==============================] - 5s 7ms/step - loss: 0.0803 - accuracy: 0.9680\n",
            "Epoch 98/100\n",
            "804/804 [==============================] - 5s 7ms/step - loss: 0.0802 - accuracy: 0.9679\n",
            "Epoch 99/100\n",
            "804/804 [==============================] - 5s 6ms/step - loss: 0.0794 - accuracy: 0.9681\n",
            "Epoch 100/100\n",
            "796/804 [============================>.] - ETA: 0s - loss: 0.0804 - accuracy: 0.9681\n",
            "Epoch 100: saving model to checkpoints-Optimization2/weights.100.hdf5\n",
            "804/804 [==============================] - 6s 7ms/step - loss: 0.0804 - accuracy: 0.9682\n"
          ]
        }
      ],
      "source": [
        "# Create a callback that saves the model's weights every five epochs\n",
        "checkpoint_callback = ModelCheckpoint(filepath=path, verbose=1, save_weights_only=True, save_freq='epoch', period=5)\n",
        "\n",
        "# Train the model\n",
        "fit_model = nn.fit(X_train_scaled, y_train, epochs=100, callbacks=[checkpoint_callback])\n",
        "\n",
        "# epochs = 100 based on starter code display"
      ]
    },
    {
      "cell_type": "code",
      "execution_count": null,
      "metadata": {
        "colab": {
          "background_save": true
        },
        "id": "NPMouAhLHi3L",
        "outputId": "755a6fc0-fba9-45fa-b761-ec2b522068e9"
      },
      "outputs": [
        {
          "name": "stdout",
          "output_type": "stream",
          "text": [
            "268/268 - 1s - loss: 0.6619 - accuracy: 0.7238 - 878ms/epoch - 3ms/step\n",
            "Loss: 0.6618618965148926, Accuracy: 0.7238484025001526\n"
          ]
        }
      ],
      "source": [
        "# Evaluate the model using the test data\n",
        "model_loss, model_accuracy = nn.evaluate(X_test_scaled,y_test,verbose=2)\n",
        "print(f\"Loss: {model_loss}, Accuracy: {model_accuracy}\")"
      ]
    },
    {
      "cell_type": "code",
      "execution_count": null,
      "metadata": {
        "colab": {
          "background_save": true
        },
        "id": "Xg0DtyflHi0k"
      },
      "outputs": [],
      "source": [
        "nn.save('/content/drive/MyDrive/Module21/AlphabetSoupCharity-2.h5')"
      ]
    },
    {
      "cell_type": "code",
      "execution_count": null,
      "metadata": {
        "id": "V3CuqhDgHixo"
      },
      "outputs": [],
      "source": []
    },
    {
      "cell_type": "code",
      "execution_count": null,
      "metadata": {
        "id": "fcu517qpHir5"
      },
      "outputs": [],
      "source": []
    },
    {
      "cell_type": "code",
      "execution_count": null,
      "metadata": {
        "id": "5PEUBs8RHine"
      },
      "outputs": [],
      "source": []
    }
  ],
  "metadata": {
    "colab": {
      "provenance": [],
      "authorship_tag": "ABX9TyPcxG/NY/xCdQDSUK8+Jbfh",
      "include_colab_link": true
    },
    "kernelspec": {
      "display_name": "Python 3",
      "name": "python3"
    },
    "language_info": {
      "name": "python"
    }
  },
  "nbformat": 4,
  "nbformat_minor": 0
}